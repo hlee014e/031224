{
  "cells": [
    {
      "cell_type": "markdown",
      "metadata": {
        "id": "view-in-github",
        "colab_type": "text"
      },
      "source": [
        "<a href=\"https://colab.research.google.com/github/hlee014e/ucsd-mle-bootcamp/blob/main/Copy_of_BeautifulSoupPractice.ipynb\" target=\"_parent\"><img src=\"https://colab.research.google.com/assets/colab-badge.svg\" alt=\"Open In Colab\"/></a>"
      ]
    },
    {
      "cell_type": "code",
      "execution_count": null,
      "metadata": {
        "id": "cqIuA5eJhZwy"
      },
      "outputs": [],
      "source": [
        "import requests\n",
        "import pandas as pd\n",
        "from bs4 import BeautifulSoup\n",
        "import os\n",
        "\n",
        "URL = \"https://www.politifact.com/factchecks/list/?page=\"\n",
        "#page = requests.get(URL)\n",
        "\n",
        "#soup = BeautifulSoup(page.content, \"html.parser\")"
      ]
    },
    {
      "cell_type": "code",
      "execution_count": null,
      "metadata": {
        "id": "ofauCPVb5Yv2"
      },
      "outputs": [],
      "source": [
        "def true_or_false(fact_soup):\n",
        "  img = fact_soup.find_all('div', {\"class\":\"c-image\"})[1].find('img')\n",
        "  if img.get('src') == \"https://static.politifact.com/img/meter-false-th.jpg\":\n",
        "    return False\n",
        "  elif img.get('src') == \"https://static.politifact.com/img/meter-pants-fire-th.jpg\":\n",
        "    return \"Pant on Fire\"\n",
        "  elif img.get('src') == \"https://static.politifact.com/img/meter-barely-true-th.jpg\":\n",
        "    return \"Mostly False\"\n",
        "  elif img.get('src') == \"https://static.politifact.com/img/meter-true-th.jpg\":\n",
        "    return True\n",
        "  elif img.get('src')==\"https://static.politifact.com/img/meter-mostly-true-th.jpg\" :\n",
        "    return \"Mostly True\"\n",
        "  elif img.get('src')==\"https://static.politifact.com/img/meter-half-true-th.jpg\" :\n",
        "    return \"Half True\"\n",
        "  elif img.get('src')==\"https://static.politifact.com/img/meter-full-flop-th.jpg\":\n",
        "    return \"Full Flop\"\n",
        "  else:\n",
        "    return \"ERROR\"\n",
        "\n"
      ]
    },
    {
      "cell_type": "code",
      "execution_count": null,
      "metadata": {
        "id": "GhKomFJ53Kp1"
      },
      "outputs": [],
      "source": [
        "all_facts=[]\n",
        "\n",
        "\n",
        "for page_num in range(700,800):\n",
        "  url = URL + str(page_num)\n",
        "  page=requests.get(url)\n",
        "  soup = BeautifulSoup(page.content, \"html.parser\")\n",
        "  list_of_facts = soup.find(\"ul\", {\"class\": \"o-listicle__list\"})\n",
        "  list_of_facts = list_of_facts.find_all(\"li\")\n",
        "\n",
        "  for fact in list_of_facts:\n",
        "    statement=fact.find('div', {\"class\":\"m-statement__content\"}).find(\"a\").get_text().strip()\n",
        "    whereabout=fact.find('div', {\"class\":\"m-statement__desc\"}).get_text().strip()\n",
        "    person=fact.find('div', {\"class\":\"m-statement__meta\"}).find('a').get_text().strip()\n",
        "  #for fact in list_of_facts:\n",
        "    true_or_false_value=true_or_false(fact)\n",
        "    all_facts.append({'statement':statement,'true_or_false':true_or_false_value,'person':person, 'whereabout':whereabout})\n",
        "\n",
        "\n",
        "\n"
      ]
    },
    {
      "cell_type": "code",
      "execution_count": null,
      "metadata": {
        "id": "aZbAxkWARHYS"
      },
      "outputs": [],
      "source": [
        "for page_num in range(800,900):\n",
        "  url = URL + str(page_num)\n",
        "  page=requests.get(url)\n",
        "  soup = BeautifulSoup(page.content, \"html.parser\")\n",
        "  list_of_facts = soup.find(\"ul\", {\"class\": \"o-listicle__list\"})\n",
        "  list_of_facts = list_of_facts.find_all(\"li\")\n",
        "\n",
        "  for fact in list_of_facts:\n",
        "    statement=fact.find('div', {\"class\":\"m-statement__content\"}).find(\"a\").get_text().strip()\n",
        "    whereabout=fact.find('div', {\"class\":\"m-statement__desc\"}).get_text().strip()\n",
        "    person=fact.find('div', {\"class\":\"m-statement__meta\"}).find('a').get_text().strip()\n",
        "  #for fact in list_of_facts:\n",
        "    true_or_false_value=true_or_false(fact)\n",
        "    all_facts.append({'statement':statement,'true_or_false':true_or_false_value,'person':person, 'whereabout':whereabout})\n",
        "\n",
        "\n",
        "\n",
        "\n"
      ]
    },
    {
      "cell_type": "code",
      "execution_count": null,
      "metadata": {
        "id": "HGUfk6PhM9_q"
      },
      "outputs": [],
      "source": [
        "for page_num in range(900,1000):\n",
        "\n",
        "  url = URL + str(page_num)\n",
        "  page=requests.get(url)\n",
        "  soup = BeautifulSoup(page.content, \"html.parser\")\n",
        "  list_of_facts = soup.find(\"ul\", {\"class\": \"o-listicle__list\"})\n",
        "  list_of_facts = list_of_facts.find_all(\"li\")\n",
        "\n",
        "  for fact in list_of_facts:\n",
        "    statement=fact.find('div', {\"class\":\"m-statement__content\"}).find(\"a\").get_text().strip()\n",
        "    whereabout=fact.find('div', {\"class\":\"m-statement__desc\"}).get_text().strip()\n",
        "    person=fact.find('div', {\"class\":\"m-statement__meta\"}).find('a').get_text().strip()\n",
        "  #for fact in list_of_facts:\n",
        "    true_or_false_value=true_or_false(fact)\n",
        "    all_facts.append({'statement':statement,'true_or_false':true_or_false_value,'person':person, 'whereabout':whereabout})\n",
        "\n",
        "\n"
      ]
    },
    {
      "cell_type": "code",
      "execution_count": null,
      "metadata": {
        "colab": {
          "background_save": true
        },
        "id": "L6KWh0o4Wqqi"
      },
      "outputs": [],
      "source": [
        "for page_num in range(1000,1100):\n",
        "\n",
        "  url = URL + str(page_num)\n",
        "  page=requests.get(url)\n",
        "  soup = BeautifulSoup(page.content, \"html.parser\")\n",
        "  list_of_facts = soup.find(\"ul\", {\"class\": \"o-listicle__list\"})\n",
        "  list_of_facts = list_of_facts.find_all(\"li\")\n",
        "\n",
        "  for fact in list_of_facts:\n",
        "    statement=fact.find('div', {\"class\":\"m-statement__content\"}).find(\"a\").get_text().strip()\n",
        "    whereabout=fact.find('div', {\"class\":\"m-statement__desc\"}).get_text().strip()\n",
        "    person=fact.find('div', {\"class\":\"m-statement__meta\"}).find('a').get_text().strip()\n",
        "  #for fact in list_of_facts:\n",
        "    true_or_false_value=true_or_false(fact)\n",
        "    all_facts.append({'statement':statement,'true_or_false':true_or_false_value,'person':person, 'whereabout':whereabout})\n",
        "\n",
        "\n"
      ]
    },
    {
      "cell_type": "code",
      "execution_count": null,
      "metadata": {
        "colab": {
          "background_save": true
        },
        "id": "rm7XVd6cW-xa"
      },
      "outputs": [],
      "source": [
        "for page_num in range(1100,1200):\n",
        "\n",
        "  url = URL + str(page_num)\n",
        "  page=requests.get(url)\n",
        "  soup = BeautifulSoup(page.content, \"html.parser\")\n",
        "  list_of_facts = soup.find(\"ul\", {\"class\": \"o-listicle__list\"})\n",
        "  list_of_facts = list_of_facts.find_all(\"li\")\n",
        "\n",
        "  for fact in list_of_facts:\n",
        "    statement=fact.find('div', {\"class\":\"m-statement__content\"}).find(\"a\").get_text().strip()\n",
        "    whereabout=fact.find('div', {\"class\":\"m-statement__desc\"}).get_text().strip()\n",
        "    person=fact.find('div', {\"class\":\"m-statement__meta\"}).find('a').get_text().strip()\n",
        "  #for fact in list_of_facts:\n",
        "    true_or_false_value=true_or_false(fact)\n",
        "    all_facts.append({'statement':statement,'true_or_false':true_or_false_value,'person':person, 'whereabout':whereabout})\n",
        "\n",
        "\n"
      ]
    },
    {
      "cell_type": "code",
      "execution_count": null,
      "metadata": {
        "colab": {
          "background_save": true
        },
        "id": "lwbFV1waXKtg"
      },
      "outputs": [],
      "source": [
        "for page_num in range(1200,1300):\n",
        "\n",
        "  url = URL + str(page_num)\n",
        "  page=requests.get(url)\n",
        "  soup = BeautifulSoup(page.content, \"html.parser\")\n",
        "  list_of_facts = soup.find(\"ul\", {\"class\": \"o-listicle__list\"})\n",
        "  list_of_facts = list_of_facts.find_all(\"li\")\n",
        "\n",
        "  for fact in list_of_facts:\n",
        "    statement=fact.find('div', {\"class\":\"m-statement__content\"}).find(\"a\").get_text().strip()\n",
        "    whereabout=fact.find('div', {\"class\":\"m-statement__desc\"}).get_text().strip()\n",
        "    person=fact.find('div', {\"class\":\"m-statement__meta\"}).find('a').get_text().strip()\n",
        "  #for fact in list_of_facts:\n",
        "    true_or_false_value=true_or_false(fact)\n",
        "    all_facts.append({'statement':statement,'true_or_false':true_or_false_value,'person':person, 'whereabout':whereabout})\n",
        "\n",
        "\n",
        "\n",
        "data=pd.DataFrame(all_facts)\n",
        "data.to_csv('politifact1.csv', index=False)"
      ]
    },
    {
      "cell_type": "code",
      "execution_count": null,
      "metadata": {
        "colab": {
          "background_save": true
        },
        "id": "ulv7cVlRbJcf"
      },
      "outputs": [],
      "source": [
        "\n"
      ]
    },
    {
      "cell_type": "code",
      "execution_count": null,
      "metadata": {
        "id": "I1_pqh8uiJqN"
      },
      "outputs": [],
      "source": []
    },
    {
      "cell_type": "code",
      "execution_count": null,
      "metadata": {
        "id": "kFeRwBe7rKWW"
      },
      "outputs": [],
      "source": [
        "data.shape"
      ]
    },
    {
      "cell_type": "code",
      "execution_count": null,
      "metadata": {
        "id": "QupFsTdHjCfu"
      },
      "outputs": [],
      "source": [
        "#im = list_of_facts[0].find_all('div', {\"class\":\"c-image\"})[1].find('img')\n",
        "#im.get('src')\n",
        "\n",
        "#find_all('img')"
      ]
    },
    {
      "cell_type": "code",
      "execution_count": null,
      "metadata": {
        "id": "dwqnQR7ovaD3"
      },
      "outputs": [],
      "source": [
        "#list_of_facts[0]"
      ]
    },
    {
      "cell_type": "code",
      "execution_count": null,
      "metadata": {
        "id": "EfpFrERvvIQp",
        "colab": {
          "base_uri": "https://localhost:8080/",
          "height": 334
        },
        "outputId": "527245ac-8307-4fe7-b15d-6beed4f42149"
      },
      "outputs": [
        {
          "output_type": "display_data",
          "data": {
            "text/plain": [
              "<IPython.core.display.HTML object>"
            ],
            "text/html": [
              "\n",
              "     <input type=\"file\" id=\"files-951ae92c-1608-4fa0-8e7f-694d456c887a\" name=\"files[]\" multiple disabled\n",
              "        style=\"border:none\" />\n",
              "     <output id=\"result-951ae92c-1608-4fa0-8e7f-694d456c887a\">\n",
              "      Upload widget is only available when the cell has been executed in the\n",
              "      current browser session. Please rerun this cell to enable.\n",
              "      </output>\n",
              "      <script>// Copyright 2017 Google LLC\n",
              "//\n",
              "// Licensed under the Apache License, Version 2.0 (the \"License\");\n",
              "// you may not use this file except in compliance with the License.\n",
              "// You may obtain a copy of the License at\n",
              "//\n",
              "//      http://www.apache.org/licenses/LICENSE-2.0\n",
              "//\n",
              "// Unless required by applicable law or agreed to in writing, software\n",
              "// distributed under the License is distributed on an \"AS IS\" BASIS,\n",
              "// WITHOUT WARRANTIES OR CONDITIONS OF ANY KIND, either express or implied.\n",
              "// See the License for the specific language governing permissions and\n",
              "// limitations under the License.\n",
              "\n",
              "/**\n",
              " * @fileoverview Helpers for google.colab Python module.\n",
              " */\n",
              "(function(scope) {\n",
              "function span(text, styleAttributes = {}) {\n",
              "  const element = document.createElement('span');\n",
              "  element.textContent = text;\n",
              "  for (const key of Object.keys(styleAttributes)) {\n",
              "    element.style[key] = styleAttributes[key];\n",
              "  }\n",
              "  return element;\n",
              "}\n",
              "\n",
              "// Max number of bytes which will be uploaded at a time.\n",
              "const MAX_PAYLOAD_SIZE = 100 * 1024;\n",
              "\n",
              "function _uploadFiles(inputId, outputId) {\n",
              "  const steps = uploadFilesStep(inputId, outputId);\n",
              "  const outputElement = document.getElementById(outputId);\n",
              "  // Cache steps on the outputElement to make it available for the next call\n",
              "  // to uploadFilesContinue from Python.\n",
              "  outputElement.steps = steps;\n",
              "\n",
              "  return _uploadFilesContinue(outputId);\n",
              "}\n",
              "\n",
              "// This is roughly an async generator (not supported in the browser yet),\n",
              "// where there are multiple asynchronous steps and the Python side is going\n",
              "// to poll for completion of each step.\n",
              "// This uses a Promise to block the python side on completion of each step,\n",
              "// then passes the result of the previous step as the input to the next step.\n",
              "function _uploadFilesContinue(outputId) {\n",
              "  const outputElement = document.getElementById(outputId);\n",
              "  const steps = outputElement.steps;\n",
              "\n",
              "  const next = steps.next(outputElement.lastPromiseValue);\n",
              "  return Promise.resolve(next.value.promise).then((value) => {\n",
              "    // Cache the last promise value to make it available to the next\n",
              "    // step of the generator.\n",
              "    outputElement.lastPromiseValue = value;\n",
              "    return next.value.response;\n",
              "  });\n",
              "}\n",
              "\n",
              "/**\n",
              " * Generator function which is called between each async step of the upload\n",
              " * process.\n",
              " * @param {string} inputId Element ID of the input file picker element.\n",
              " * @param {string} outputId Element ID of the output display.\n",
              " * @return {!Iterable<!Object>} Iterable of next steps.\n",
              " */\n",
              "function* uploadFilesStep(inputId, outputId) {\n",
              "  const inputElement = document.getElementById(inputId);\n",
              "  inputElement.disabled = false;\n",
              "\n",
              "  const outputElement = document.getElementById(outputId);\n",
              "  outputElement.innerHTML = '';\n",
              "\n",
              "  const pickedPromise = new Promise((resolve) => {\n",
              "    inputElement.addEventListener('change', (e) => {\n",
              "      resolve(e.target.files);\n",
              "    });\n",
              "  });\n",
              "\n",
              "  const cancel = document.createElement('button');\n",
              "  inputElement.parentElement.appendChild(cancel);\n",
              "  cancel.textContent = 'Cancel upload';\n",
              "  const cancelPromise = new Promise((resolve) => {\n",
              "    cancel.onclick = () => {\n",
              "      resolve(null);\n",
              "    };\n",
              "  });\n",
              "\n",
              "  // Wait for the user to pick the files.\n",
              "  const files = yield {\n",
              "    promise: Promise.race([pickedPromise, cancelPromise]),\n",
              "    response: {\n",
              "      action: 'starting',\n",
              "    }\n",
              "  };\n",
              "\n",
              "  cancel.remove();\n",
              "\n",
              "  // Disable the input element since further picks are not allowed.\n",
              "  inputElement.disabled = true;\n",
              "\n",
              "  if (!files) {\n",
              "    return {\n",
              "      response: {\n",
              "        action: 'complete',\n",
              "      }\n",
              "    };\n",
              "  }\n",
              "\n",
              "  for (const file of files) {\n",
              "    const li = document.createElement('li');\n",
              "    li.append(span(file.name, {fontWeight: 'bold'}));\n",
              "    li.append(span(\n",
              "        `(${file.type || 'n/a'}) - ${file.size} bytes, ` +\n",
              "        `last modified: ${\n",
              "            file.lastModifiedDate ? file.lastModifiedDate.toLocaleDateString() :\n",
              "                                    'n/a'} - `));\n",
              "    const percent = span('0% done');\n",
              "    li.appendChild(percent);\n",
              "\n",
              "    outputElement.appendChild(li);\n",
              "\n",
              "    const fileDataPromise = new Promise((resolve) => {\n",
              "      const reader = new FileReader();\n",
              "      reader.onload = (e) => {\n",
              "        resolve(e.target.result);\n",
              "      };\n",
              "      reader.readAsArrayBuffer(file);\n",
              "    });\n",
              "    // Wait for the data to be ready.\n",
              "    let fileData = yield {\n",
              "      promise: fileDataPromise,\n",
              "      response: {\n",
              "        action: 'continue',\n",
              "      }\n",
              "    };\n",
              "\n",
              "    // Use a chunked sending to avoid message size limits. See b/62115660.\n",
              "    let position = 0;\n",
              "    do {\n",
              "      const length = Math.min(fileData.byteLength - position, MAX_PAYLOAD_SIZE);\n",
              "      const chunk = new Uint8Array(fileData, position, length);\n",
              "      position += length;\n",
              "\n",
              "      const base64 = btoa(String.fromCharCode.apply(null, chunk));\n",
              "      yield {\n",
              "        response: {\n",
              "          action: 'append',\n",
              "          file: file.name,\n",
              "          data: base64,\n",
              "        },\n",
              "      };\n",
              "\n",
              "      let percentDone = fileData.byteLength === 0 ?\n",
              "          100 :\n",
              "          Math.round((position / fileData.byteLength) * 100);\n",
              "      percent.textContent = `${percentDone}% done`;\n",
              "\n",
              "    } while (position < fileData.byteLength);\n",
              "  }\n",
              "\n",
              "  // All done.\n",
              "  yield {\n",
              "    response: {\n",
              "      action: 'complete',\n",
              "    }\n",
              "  };\n",
              "}\n",
              "\n",
              "scope.google = scope.google || {};\n",
              "scope.google.colab = scope.google.colab || {};\n",
              "scope.google.colab._files = {\n",
              "  _uploadFiles,\n",
              "  _uploadFilesContinue,\n",
              "};\n",
              "})(self);\n",
              "</script> "
            ]
          },
          "metadata": {}
        },
        {
          "output_type": "error",
          "ename": "MessageError",
          "evalue": "RangeError: Maximum call stack size exceeded.",
          "traceback": [
            "\u001b[0;31m---------------------------------------------------------------------------\u001b[0m",
            "\u001b[0;31mMessageError\u001b[0m                              Traceback (most recent call last)",
            "\u001b[0;32m<ipython-input-24-5c2e8a8d365b>\u001b[0m in \u001b[0;36m<cell line: 2>\u001b[0;34m()\u001b[0m\n\u001b[1;32m      1\u001b[0m \u001b[0;32mfrom\u001b[0m \u001b[0mgoogle\u001b[0m\u001b[0;34m.\u001b[0m\u001b[0mcolab\u001b[0m \u001b[0;32mimport\u001b[0m \u001b[0mfiles\u001b[0m\u001b[0;34m\u001b[0m\u001b[0;34m\u001b[0m\u001b[0m\n\u001b[0;32m----> 2\u001b[0;31m \u001b[0mfiles\u001b[0m\u001b[0;34m.\u001b[0m\u001b[0mupload\u001b[0m\u001b[0;34m(\u001b[0m\u001b[0;34m)\u001b[0m\u001b[0;34m\u001b[0m\u001b[0;34m\u001b[0m\u001b[0m\n\u001b[0m",
            "\u001b[0;32m/usr/local/lib/python3.10/dist-packages/google/colab/files.py\u001b[0m in \u001b[0;36mupload\u001b[0;34m(target_dir)\u001b[0m\n\u001b[1;32m     70\u001b[0m   \"\"\"\n\u001b[1;32m     71\u001b[0m \u001b[0;34m\u001b[0m\u001b[0m\n\u001b[0;32m---> 72\u001b[0;31m   \u001b[0muploaded_files\u001b[0m \u001b[0;34m=\u001b[0m \u001b[0m_upload_files\u001b[0m\u001b[0;34m(\u001b[0m\u001b[0mmultiple\u001b[0m\u001b[0;34m=\u001b[0m\u001b[0;32mTrue\u001b[0m\u001b[0;34m)\u001b[0m\u001b[0;34m\u001b[0m\u001b[0;34m\u001b[0m\u001b[0m\n\u001b[0m\u001b[1;32m     73\u001b[0m   \u001b[0;31m# Mapping from original filename to filename as saved locally.\u001b[0m\u001b[0;34m\u001b[0m\u001b[0;34m\u001b[0m\u001b[0m\n\u001b[1;32m     74\u001b[0m   \u001b[0mlocal_filenames\u001b[0m \u001b[0;34m=\u001b[0m \u001b[0mdict\u001b[0m\u001b[0;34m(\u001b[0m\u001b[0;34m)\u001b[0m\u001b[0;34m\u001b[0m\u001b[0;34m\u001b[0m\u001b[0m\n",
            "\u001b[0;32m/usr/local/lib/python3.10/dist-packages/google/colab/files.py\u001b[0m in \u001b[0;36m_upload_files\u001b[0;34m(multiple)\u001b[0m\n\u001b[1;32m    170\u001b[0m \u001b[0;34m\u001b[0m\u001b[0m\n\u001b[1;32m    171\u001b[0m   \u001b[0;32mwhile\u001b[0m \u001b[0mresult\u001b[0m\u001b[0;34m[\u001b[0m\u001b[0;34m'action'\u001b[0m\u001b[0;34m]\u001b[0m \u001b[0;34m!=\u001b[0m \u001b[0;34m'complete'\u001b[0m\u001b[0;34m:\u001b[0m\u001b[0;34m\u001b[0m\u001b[0;34m\u001b[0m\u001b[0m\n\u001b[0;32m--> 172\u001b[0;31m     result = _output.eval_js(\n\u001b[0m\u001b[1;32m    173\u001b[0m         'google.colab._files._uploadFilesContinue(\"{output_id}\")'.format(\n\u001b[1;32m    174\u001b[0m             \u001b[0moutput_id\u001b[0m\u001b[0;34m=\u001b[0m\u001b[0moutput_id\u001b[0m\u001b[0;34m\u001b[0m\u001b[0;34m\u001b[0m\u001b[0m\n",
            "\u001b[0;32m/usr/local/lib/python3.10/dist-packages/google/colab/output/_js.py\u001b[0m in \u001b[0;36meval_js\u001b[0;34m(script, ignore_result, timeout_sec)\u001b[0m\n\u001b[1;32m     38\u001b[0m   \u001b[0;32mif\u001b[0m \u001b[0mignore_result\u001b[0m\u001b[0;34m:\u001b[0m\u001b[0;34m\u001b[0m\u001b[0;34m\u001b[0m\u001b[0m\n\u001b[1;32m     39\u001b[0m     \u001b[0;32mreturn\u001b[0m\u001b[0;34m\u001b[0m\u001b[0;34m\u001b[0m\u001b[0m\n\u001b[0;32m---> 40\u001b[0;31m   \u001b[0;32mreturn\u001b[0m \u001b[0m_message\u001b[0m\u001b[0;34m.\u001b[0m\u001b[0mread_reply_from_input\u001b[0m\u001b[0;34m(\u001b[0m\u001b[0mrequest_id\u001b[0m\u001b[0;34m,\u001b[0m \u001b[0mtimeout_sec\u001b[0m\u001b[0;34m)\u001b[0m\u001b[0;34m\u001b[0m\u001b[0;34m\u001b[0m\u001b[0m\n\u001b[0m\u001b[1;32m     41\u001b[0m \u001b[0;34m\u001b[0m\u001b[0m\n\u001b[1;32m     42\u001b[0m \u001b[0;34m\u001b[0m\u001b[0m\n",
            "\u001b[0;32m/usr/local/lib/python3.10/dist-packages/google/colab/_message.py\u001b[0m in \u001b[0;36mread_reply_from_input\u001b[0;34m(message_id, timeout_sec)\u001b[0m\n\u001b[1;32m    101\u001b[0m     ):\n\u001b[1;32m    102\u001b[0m       \u001b[0;32mif\u001b[0m \u001b[0;34m'error'\u001b[0m \u001b[0;32min\u001b[0m \u001b[0mreply\u001b[0m\u001b[0;34m:\u001b[0m\u001b[0;34m\u001b[0m\u001b[0;34m\u001b[0m\u001b[0m\n\u001b[0;32m--> 103\u001b[0;31m         \u001b[0;32mraise\u001b[0m \u001b[0mMessageError\u001b[0m\u001b[0;34m(\u001b[0m\u001b[0mreply\u001b[0m\u001b[0;34m[\u001b[0m\u001b[0;34m'error'\u001b[0m\u001b[0;34m]\u001b[0m\u001b[0;34m)\u001b[0m\u001b[0;34m\u001b[0m\u001b[0;34m\u001b[0m\u001b[0m\n\u001b[0m\u001b[1;32m    104\u001b[0m       \u001b[0;32mreturn\u001b[0m \u001b[0mreply\u001b[0m\u001b[0;34m.\u001b[0m\u001b[0mget\u001b[0m\u001b[0;34m(\u001b[0m\u001b[0;34m'data'\u001b[0m\u001b[0;34m,\u001b[0m \u001b[0;32mNone\u001b[0m\u001b[0;34m)\u001b[0m\u001b[0;34m\u001b[0m\u001b[0;34m\u001b[0m\u001b[0m\n\u001b[1;32m    105\u001b[0m \u001b[0;34m\u001b[0m\u001b[0m\n",
            "\u001b[0;31mMessageError\u001b[0m: RangeError: Maximum call stack size exceeded."
          ]
        }
      ],
      "source": [
        "from google.colab import files\n",
        "files.upload()\n"
      ]
    }
  ],
  "metadata": {
    "colab": {
      "provenance": [],
      "include_colab_link": true
    },
    "kernelspec": {
      "display_name": "Python 3",
      "name": "python3"
    },
    "language_info": {
      "name": "python"
    }
  },
  "nbformat": 4,
  "nbformat_minor": 0
}