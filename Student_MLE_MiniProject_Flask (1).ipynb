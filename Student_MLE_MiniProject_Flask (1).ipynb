{
  "cells": [
    {
      "cell_type": "markdown",
      "source": [
        "# Mini Project: Flask for ML Tasks\n",
        "\n",
        "Flask is a micro web framework for Python that simplifies the process of building web applications. It's designed to be lightweight, flexible, and easy to use, making it a popular choice for developing web applications, APIs, and microservices. Flask doesn't impose a lot of constraints on how you structure your application, giving you the freedom to design your application as needed.\n",
        "\n",
        "Here's how Flask works and how it can be used for machine learning engineering:\n",
        "\n",
        "**1. Web Application Basics:**\n",
        "Flask allows you to define routes (URLs) and associate them with Python functions. When a user visits a specific URL, the associated function is executed, and you can return HTML, JSON, images, or any other type of data as a response. This makes it great for building dynamic and interactive web applications.\n",
        "\n",
        "**2. Integration with Machine Learning:**\n",
        "Flask can be incredibly useful in the context of machine learning engineering for a variety of purposes:\n",
        "\n",
        "- **Model Deployment:** Flask can be used to deploy machine learning models as APIs. Once your model is trained, you can create a Flask app that exposes the model through a web API. This enables other applications, platforms, or services to easily interact with and use your trained models for making predictions.\n",
        "\n",
        "- **Data Visualization:** You can use Flask to create interactive visualizations of data and model predictions. This is particularly useful when you want to provide users with a graphical representation of your machine learning insights.\n",
        "\n",
        "- **Custom Preprocessing:** If your machine learning model requires preprocessing steps before making predictions, Flask can be used to create an interface where users can input data, and your app preprocesses the data and feeds it to the model for prediction.\n",
        "\n",
        "- **User Interface:** Flask can help you create user-friendly interfaces for your machine learning models, allowing non-technical users to interact with and utilize your models without writing code.\n",
        "\n",
        "- **A/B Testing and Experimentation:** Flask apps can be used to deploy different versions of your models for A/B testing or experimentation, allowing you to compare the performance of different models and make data-driven decisions.\n",
        "\n",
        "**3. Real-world Example:**\n",
        "Imagine you've trained a sentiment analysis model, and you want to allow users to input text and get predictions about the sentiment of the text. You can create a Flask app that provides a simple web interface where users can type in their text, and the app sends the text to your sentiment analysis model and displays the result."
      ],
      "metadata": {
        "id": "yPbWViOfnJFg"
      }
    },
    {
      "cell_type": "markdown",
      "source": [
        "A typical Flask application follows a specific structure that helps organize your code, templates, static files, and other resources. This structure is designed to keep your codebase organized and maintainable as your application grows. The layout typically consists of several key components:\n",
        "\n",
        "1. **Main Application File (`app.py` or similar):**\n",
        "   This is the entry point of your Flask application. It contains the core configuration, route definitions, and application setup. You define the routes (URLs) your application will respond to, and associate each route with a Python function that handles the logic for that route.\n",
        "\n",
        "2. **Templates Folder (`templates/`):**\n",
        "   This folder contains your HTML templates. Flask uses a templating engine (Jinja2 by default) to generate dynamic HTML content. Templates allow you to separate the presentation (HTML) from the logic (Python) in your application, making your code more organized and maintainable. Templates can also include placeholders for dynamic data that Flask fills in when rendering the template.\n",
        "\n",
        "3. **Static Folder (`static/`):**\n",
        "   The `static` folder holds static assets like CSS files, JavaScript files, images, fonts, and other resources that are directly served to the user's browser. These assets are typically used to style and enhance the appearance of your web application. By separating static assets from dynamic content, you can optimize the performance of your application.\n",
        "\n",
        "4. **Other Application Files and Modules:**\n",
        "   Depending on the complexity of your application, you might create additional modules or packages to handle different aspects of your application, such as database interactions, machine learning model deployment, authentication, and more. These modules help keep your codebase modular and maintainable.\n",
        "\n",
        "Here's a simplified example of the structure of a Flask application:\n",
        "\n",
        "```\n",
        "my_flask_app/\n",
        "├── app.py\n",
        "├── templates/\n",
        "│   ├── index.html\n",
        "│   ├── result.html\n",
        "├── static/\n",
        "│   ├── styles.css\n",
        "│   ├── script.js\n",
        "└── other_modules/\n",
        "    ├── database.py\n",
        "    ├── ml_model.py\n",
        "```\n",
        "\n",
        "In this example:\n",
        "\n",
        "- `app.py` is the main application file where you define routes, configure the app, and handle requests.\n",
        "- The `templates` folder contains HTML templates that define the structure of your web pages.\n",
        "- The `static` folder holds static assets like CSS and JavaScript files.\n",
        "- The `other_modules` folder might contain additional modules or packages for handling specific tasks, like interacting with a database (`database.py`) or deploying a machine learning model (`ml_model.py`).\n",
        "\n",
        "The separation of static files and templates helps you maintain clean and organized code. Static assets are served directly to users, while templates are used to dynamically generate HTML pages. This structure facilitates collaboration among team members and makes it easier to understand, maintain, and extend your Flask application."
      ],
      "metadata": {
        "id": "yHTfSly5qyjK"
      }
    },
    {
      "cell_type": "markdown",
      "source": [
        "In this mini-project you'll be introduced to Flask by developing an application where your render a bar plot based on user-input data through an API. Note, colab is not a natural place for API development. Colab is mainly used here to be consistent with other mini-projects.\n",
        "\n",
        "As such, we'll need to leverage a tool called [ngrok](https://ngrok.com/). Ngrok is a tool that allows you to create secure tunnels from a public endpoint to a locally running web service or application. It enables you to expose your local server to the internet, making it accessible to others even if it's running on your own computer behind firewalls or NAT (Network Address Translation) devices. In this mini-project, we'll use ngrok to expose your colab instance to the wider internet. Again, you'd never use something like this for production.\n",
        "\n",
        "Go ahead and sign up for an ngrok account [here](https://ngrok.com/). It's free and useful for a wide variety of tasks."
      ],
      "metadata": {
        "id": "ckZ-l9RTr_Ef"
      }
    },
    {
      "cell_type": "markdown",
      "source": [
        "Execute the cell below to authenticate to ngrok. Paste your authentication token after copying it from [https://dashboard.ngrok.com/auth](https://dashboard.ngrok.com/auth). This assumes you've already created an ngrok account.  "
      ],
      "metadata": {
        "id": "harGkq13JK9j"
      }
    },
    {
      "cell_type": "markdown",
      "source": [
        "#!python app.py\n",
        "!pkill -f ngrok\n",
        "!pip install flask-ngrok --upgrade\n",
        "\n",
        "!pip install pyngrok\n",
        "#!pip install flask"
      ],
      "metadata": {
        "id": "Bc5p2nJfsxer"
      }
    },
    {
      "cell_type": "code",
      "source": [
        "!pkill -f flask\n",
        "!pkill -f ngrok\n",
        "!pip install --upgrade flask pyngrok --quiet\n",
        "\n",
        "\n",
        "#!pip install pyngrok"
      ],
      "metadata": {
        "id": "es7w-kAljjWk"
      },
      "execution_count": 1,
      "outputs": []
    },
    {
      "cell_type": "code",
      "execution_count": 2,
      "metadata": {
        "id": "t_CERy7auqz3"
      },
      "outputs": [],
      "source": [
        "from pyngrok import ngrok, conf\n",
        "\n",
        "conf.get_default().auth_token = \"2tK6Ad3tFe0Es0KsauI1WgUiEqp_7xSwVXVjGGBhMGmCmW48F\"  # Replace with your actual token\n"
      ]
    },
    {
      "cell_type": "markdown",
      "source": [
        "Time to create our Flask application. Here are your tasks:\n",
        "\n",
        "1. In your colab notebook create a new folder named `static`. In the folder create a file called `styles.css` and populate it with the following code:\n",
        "```css\n",
        ".chart-container {\n",
        "    width: 80%;\n",
        "    margin: 20px auto;\n",
        "}\n",
        "```\n",
        "This creates parameters for the bar chart we'll be creating. Note, the full directory of the file should be `/content/static/styles.css`.\n",
        "2. Create another folder named `templates`. Create a file called `index.html` and populate it with the following html code:\n",
        "```html\n",
        "<!DOCTYPE html>\n",
        "<html>\n",
        "<head>\n",
        "    <title>Data Visualization with Flask</title>\n",
        "    <link rel=\"stylesheet\" href=\"{{ url_for('static', filename='styles.css') }}\">\n",
        "</head>\n",
        "<body>\n",
        "    <h1>Data Visualization with Flask</h1>\n",
        "    <form method=\"POST\" action=\"/\">\n",
        "        <div>\n",
        "            <label for=\"categories\">Categories (comma-separated):</label>\n",
        "            <input type=\"text\" name=\"categories\" required>\n",
        "        </div>\n",
        "        <div>\n",
        "            <label for=\"values\">Values (comma-separated):</label>\n",
        "            <input type=\"text\" name=\"values\" required>\n",
        "        </div>\n",
        "        <button type=\"submit\">Generate Bar Chart</button>\n",
        "    </form>\n",
        "    <div class=\"chart-container\">\n",
        "        {% if chart_url %}\n",
        "            <img src=\"data:image/png;base64,{{ chart_url }}\" alt=\"Bar Chart\">\n",
        "        {% endif %}\n",
        "    </div>\n",
        "</body>\n",
        "</html>\n",
        "```\n",
        "Html is a pretty intuitive language to understand. Go through each line and make sure you understand what's happening. An extremely useful skill for an engineer is to be able to *understand* any kind of code, even if the engineer doesn't fully know how to write in the language."
      ],
      "metadata": {
        "id": "N3tXQyHOKORk"
      }
    },
    {
      "cell_type": "code",
      "source": [
        "# ✅ Ensure the static directory exists\n",
        "!mkdir -p /content/static\n",
        "\n",
        "# ✅ CSS content to write into styles.css\n",
        "css_code = \"\"\".chart-container {\n",
        "    width: 80%;\n",
        "    margin: 20px auto;\n",
        "}\"\"\"\n",
        "\n",
        "# ✅ Write CSS content to styles.css\n",
        "with open(\"/content/static/styles.css\", \"w\") as file:\n",
        "    file.write(css_code)\n",
        "\n",
        "print(\"✅ styles.css created successfully!\")\n"
      ],
      "metadata": {
        "colab": {
          "base_uri": "https://localhost:8080/"
        },
        "id": "R27TNqv2Empd",
        "outputId": "f1e0e0f4-6369-4393-c14d-dccb0ed85950"
      },
      "execution_count": 3,
      "outputs": [
        {
          "output_type": "stream",
          "name": "stdout",
          "text": [
            "✅ styles.css created successfully!\n"
          ]
        }
      ]
    },
    {
      "cell_type": "code",
      "source": [
        "# ✅ Ensure the templates directory exists\n",
        "!mkdir -p /content/templates\n",
        "\n",
        "# ✅ HTML content to write into index.html\n",
        "html_code = \"\"\"<!DOCTYPE html>\n",
        "<html>\n",
        "<head>\n",
        "    <title>Data Visualization with Flask</title>\n",
        "    <link rel=\"stylesheet\" href=\"{{ url_for('static', filename='styles.css') }}\">\n",
        "</head>\n",
        "<body>\n",
        "    <h1>Data Visualization with Flask</h1>\n",
        "    <form method=\"POST\" action=\"/\">\n",
        "        <div>\n",
        "            <label for=\"categories\">Categories (comma-separated):</label>\n",
        "            <input type=\"text\" name=\"categories\" required>\n",
        "        </div>\n",
        "        <div>\n",
        "            <label for=\"values\">Values (comma-separated):</label>\n",
        "            <input type=\"text\" name=\"values\" required>\n",
        "        </div>\n",
        "        <button type=\"submit\">Generate Bar Chart</button>\n",
        "    </form>\n",
        "    <div class=\"chart-container\">\n",
        "        {% if chart %}\n",
        "            <img src=\"data:image/png;base64,{{ chart }}\" alt=\"Bar Chart\">\n",
        "        {% endif %}\n",
        "    </div>\n",
        "</body>\n",
        "</html>\"\"\"\n",
        "\n",
        "# ✅ Write HTML content to index.html\n",
        "with open(\"/content/templates/index.html\", \"w\") as file:\n",
        "    file.write(html_code)\n",
        "\n",
        "print(\"✅ index.html created successfully!\")\n"
      ],
      "metadata": {
        "colab": {
          "base_uri": "https://localhost:8080/"
        },
        "id": "tPyAlEfHAR3m",
        "outputId": "cf54c869-e0fa-46d0-94e2-b16ca2ba66f2"
      },
      "execution_count": 4,
      "outputs": [
        {
          "output_type": "stream",
          "name": "stdout",
          "text": [
            "✅ index.html created successfully!\n"
          ]
        }
      ]
    },
    {
      "cell_type": "markdown",
      "source": [
        "1. Write a function called `generate_bar_chart` that takes a list of category names and respective values and generates a bar chart using [plt.bar](https://matplotlib.org/stable/api/_as_gen/matplotlib.pyplot.bar.html). In the function, return your barplot as a UTF-8 encoded string. It may be useful to create a BytesIO object using [io.BytesIO](https://docs.python.org/3/library/io.html#io.BytesIO) to store the barplot and then [base64.b64encode](https://docs.python.org/3/library/base64.html#base64.b64encode) to create the encoding.\n",
        "2. Now, you'll be filling in the `index` function that serves as the landing page for our application. If you're not too familiar with how HTTP works, read this quick primer [here](https://jaimelightfoot.com/blog/how-http-works/). From the form defined in `index.html`, extract the input for the `categories` field and store it in a list. Also, extract the input for the `values` field and store it in a list as well.\n",
        "3. Pass the two lists from the previous step to your function `generate_bar_chart`.\n",
        "4. The output of `generate_bar_chart` in the index function should then be passed to Flask's [render_template](https://flask.palletsprojects.com/en/2.3.x/api/#flask.render_template) and returned by the function.\n",
        "5. Execute the cell below with your code and click on the link output by \"ngrok tunnel\". This is the application landing page. See if everything works.\n",
        "6. Have fun with the application built here. See if you can extend it in some way. Make sure you understand how the python code interacts with the html template.\n",
        "\n",
        "**If you rerun the cell below and get a port issue, go ahead and restart the colab runtime environment and try again.**"
      ],
      "metadata": {
        "id": "GC7RCUTzMOVs"
      }
    },
    {
      "cell_type": "code",
      "source": [
        "import matplotlib.pyplot as plt\n",
        "import io\n",
        "import base64\n",
        "import os\n",
        "from flask import Flask, render_template, request\n",
        "#from flask_ngrok import run_with_ngrok\n",
        "\n",
        "os.environ[\"FLASK_DEBUG\"] = \"development\"\n",
        "\n",
        "app = Flask(__name__, static_folder='static', template_folder='templates')\n",
        "port = 5000\n"
      ],
      "metadata": {
        "id": "uX_aZXkZkxAK"
      },
      "execution_count": 5,
      "outputs": []
    },
    {
      "cell_type": "code",
      "source": [
        "public_url = ngrok.connect(port).public_url\n",
        "print(f\"ngrok tunnel: {public_url}\")  # This prints the public URL"
      ],
      "metadata": {
        "id": "-0FYY6LalD-h",
        "outputId": "718dfd1a-b1eb-47b9-f317-69e905082db8",
        "colab": {
          "base_uri": "https://localhost:8080/"
        }
      },
      "execution_count": 6,
      "outputs": [
        {
          "output_type": "stream",
          "name": "stdout",
          "text": [
            "ngrok tunnel: https://d4ad-35-198-226-195.ngrok-free.app\n"
          ]
        }
      ]
    },
    {
      "cell_type": "markdown",
      "source": [],
      "metadata": {
        "id": "wXZHSZmzKulK"
      }
    },
    {
      "cell_type": "code",
      "source": [
        "#import matplotlib.pyplot as plt\n",
        "#import io\n",
        "#import base64\n",
        "#import os\n",
        "#from flask import Flask, render_template, request\n",
        "#from flask_ngrok import run_with_ngrok\n",
        "\n",
        "#os.environ[\"FLASK_DEBUG\"] = \"development\"\n",
        "\n",
        "#app = Flask(__name__, static_folder='static', template_folder='templates')\n",
        "#port = 5000\n",
        "#!pip uninstall flask-ngrok -y\n",
        "#!pip install --upgrade pyngrok\n",
        "#from pyngrok import ngrok\n",
        "def generate_bar_chart(categories, values):\n",
        "    plt.figure(figsize=(8, 6))\n",
        "    plt.bar(categories, values, color='skyblue')\n",
        "    plt.xlabel('Categories')\n",
        "    plt.ylabel('Values')\n",
        "    plt.title('Bar Chart')\n",
        "    plt.xticks(rotation=45)\n",
        "\n",
        "    img_buffer = io.BytesIO()\n",
        "    plt.savefig(img_buffer, format='png', bbox_inches='tight')\n",
        "    plt.close()\n",
        "\n",
        "    img_buffer.seek(0)\n",
        "    encoded_string = base64.b64encode(img_buffer.getvalue()).decode('utf-8')\n",
        "\n",
        "    return encoded_string\n",
        "\n",
        "\n",
        "\n",
        "\n",
        "\n",
        "\n"
      ],
      "metadata": {
        "id": "TvtkyveVy1No"
      },
      "execution_count": 7,
      "outputs": []
    },
    {
      "cell_type": "code",
      "source": [
        "import threading\n",
        "\n",
        "\n",
        "#app = Flask(__name__)\n",
        "\n",
        "@app.route(\"/\", methods=[\"GET\", \"POST\"])\n",
        "def index():\n",
        "    if request.method == \"POST\":\n",
        "        categories_raw = request.form.get(\"categories\")\n",
        "        values_raw = request.form.get(\"values\")\n",
        "\n",
        "        if not categories_raw or not values_raw:\n",
        "            return \"Error: Missing categories or values\", 400\n",
        "\n",
        "        try:\n",
        "            categories = categories_raw.split(',')\n",
        "            values = list(map(float, values_raw.split(',')))\n",
        "        except ValueError:\n",
        "            return \"Error: Invalid number format in values\", 400\n",
        "        chart = generate_bar_chart(categories, values)\n",
        "        return render_template(\"index.html\", chart=chart)\n",
        "        #return f\"Categories: {categories}, Values: {values}\"  # Simple test\n",
        "    else:\n",
        "        return render_template(\"index.html\")\n",
        "    #return \"Flask App is Running!\"\n",
        "\n",
        "# ✅ Run Flask in a separate thread\n",
        "def run_flask():\n",
        "    app.run(host=\"0.0.0.0\", port=5000, debug=True, use_reloader=False)\n",
        "\n",
        "flask_thread = threading.Thread(target=run_flask)\n",
        "flask_thread.start()\n"
      ],
      "metadata": {
        "colab": {
          "base_uri": "https://localhost:8080/"
        },
        "id": "-0kPDqoKFwz1",
        "outputId": "e6cfa0d8-7f16-4ba9-ea1d-0217c38e9cd3"
      },
      "execution_count": 8,
      "outputs": [
        {
          "output_type": "stream",
          "name": "stdout",
          "text": [
            " * Serving Flask app '__main__'\n",
            " * Debug mode: on\n"
          ]
        }
      ]
    }
  ],
  "metadata": {
    "colab": {
      "provenance": [],
      "gpuType": "T4"
    },
    "kernelspec": {
      "display_name": "Python 3",
      "name": "python3"
    },
    "language_info": {
      "name": "python"
    },
    "accelerator": "GPU"
  },
  "nbformat": 4,
  "nbformat_minor": 0
}