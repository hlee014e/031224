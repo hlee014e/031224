{
 "cells": [
  {
   "cell_type": "code",
   "execution_count": 1,
   "id": "abb46c17-1ab9-4afe-8799-f1a33058b744",
   "metadata": {
    "execution": {
     "iopub.execute_input": "2025-04-03T20:54:49.624750Z",
     "iopub.status.busy": "2025-04-03T20:54:49.624280Z",
     "iopub.status.idle": "2025-04-03T20:54:51.042805Z",
     "shell.execute_reply": "2025-04-03T20:54:51.042033Z",
     "shell.execute_reply.started": "2025-04-03T20:54:49.624718Z"
    }
   },
   "outputs": [
    {
     "name": "stdout",
     "output_type": "stream",
     "text": [
      "sagemaker.config INFO - Fetched defaults config from location: /etc/xdg/sagemaker/config.yaml\n",
      "sagemaker.config INFO - Not applying SDK defaults from location: /home/sagemaker-user/.config/sagemaker/config.yaml\n",
      "sagemaker.config INFO - Applied value from config key = SageMaker.PythonSDK.Modules.Session.DefaultS3Bucket\n",
      "sagemaker.config INFO - Applied value from config key = SageMaker.PythonSDK.Modules.Session.DefaultS3ObjectKeyPrefix\n"
     ]
    }
   ],
   "source": [
    "import boto3\n",
    "import sagemaker\n",
    "import datetime as dt\n",
    "import pandas as pd\n"
   ]
  },
  {
   "cell_type": "code",
   "execution_count": 2,
   "id": "271c78cb-e21b-4ea3-a089-5efa81fe650f",
   "metadata": {
    "execution": {
     "iopub.execute_input": "2025-04-03T20:54:51.044565Z",
     "iopub.status.busy": "2025-04-03T20:54:51.044013Z",
     "iopub.status.idle": "2025-04-03T20:54:51.055569Z",
     "shell.execute_reply": "2025-04-03T20:54:51.051907Z",
     "shell.execute_reply.started": "2025-04-03T20:54:51.044533Z"
    }
   },
   "outputs": [],
   "source": [
    "#Replace this value with the S3 Bucket Created\n",
    "default_bucket = \"rosa-churn-data-2025\""
   ]
  },
  {
   "cell_type": "code",
   "execution_count": 3,
   "id": "2b2471f8-a016-41a6-a4c8-2f47ad4a9585",
   "metadata": {
    "execution": {
     "iopub.execute_input": "2025-04-03T20:54:51.065091Z",
     "iopub.status.busy": "2025-04-03T20:54:51.063142Z",
     "iopub.status.idle": "2025-04-03T20:54:52.395050Z",
     "shell.execute_reply": "2025-04-03T20:54:52.393414Z",
     "shell.execute_reply.started": "2025-04-03T20:54:51.065041Z"
    }
   },
   "outputs": [
    {
     "name": "stdout",
     "output_type": "stream",
     "text": [
      "sagemaker.config INFO - Applied value from config key = SageMaker.PythonSDK.Modules.Session.DefaultS3Bucket\n",
      "sagemaker.config INFO - Applied value from config key = SageMaker.PythonSDK.Modules.Session.DefaultS3ObjectKeyPrefix\n",
      "sagemaker.config INFO - Applied value from config key = SageMaker.PythonSDK.Modules.Session.DefaultS3Bucket\n",
      "sagemaker.config INFO - Applied value from config key = SageMaker.PythonSDK.Modules.Session.DefaultS3ObjectKeyPrefix\n"
     ]
    }
   ],
   "source": [
    "region = boto3.Session().region_name\n",
    "role = sagemaker.get_execution_role()\n",
    "sagemaker_session = sagemaker.Session()\n",
    "sklearn_processor_version=\"0.23-1\"\n",
    "model_package_group_name=\"ChurnModelPackageGroup\"\n",
    "pipeline_name= \"ChurnModelSMPipeline\"\n",
    "clarify_image = sagemaker.image_uris.retrieve(framework='sklearn',version=sklearn_processor_version,region=region)"
   ]
  },
  {
   "cell_type": "code",
   "execution_count": 4,
   "id": "6d51da4d-079e-4dca-82e2-4d5b9da3e55b",
   "metadata": {
    "execution": {
     "iopub.execute_input": "2025-04-03T20:54:52.397578Z",
     "iopub.status.busy": "2025-04-03T20:54:52.397249Z",
     "iopub.status.idle": "2025-04-03T20:54:52.430735Z",
     "shell.execute_reply": "2025-04-03T20:54:52.429836Z",
     "shell.execute_reply.started": "2025-04-03T20:54:52.397545Z"
    }
   },
   "outputs": [],
   "source": [
    "def preprocess_data(file_path):\n",
    "    df = pd.read_csv(file_path)\n",
    "    ## Convert to datetime columns\n",
    "    df[\"firstorder\"]=pd.to_datetime(df[\"firstorder\"],errors='coerce')\n",
    "    df[\"lastorder\"] = pd.to_datetime(df[\"lastorder\"],errors='coerce')\n",
    "    ## Drop Rows with null values\n",
    "    df = df.dropna()\n",
    "    ## Create Column which gives the days between the last order and the first order\n",
    "    df[\"first_last_days_diff\"] = (df['lastorder']-df['firstorder']).dt.days\n",
    "    ## Create Column which gives the days between when the customer record was created and the first order\n",
    "    df['created'] = pd.to_datetime(df['created'])\n",
    "    df['created_first_days_diff']=(df['created']-df['firstorder']).dt.days\n",
    "    ## Drop Columns\n",
    "    df.drop(['custid','created','firstorder','lastorder'],axis=1,inplace=True)\n",
    "    ## Apply one hot encoding on favday and city columns\n",
    "    df = pd.get_dummies(df,prefix=['favday','city'],columns=['favday','city'])\n",
    "    return df"
   ]
  },
  {
   "cell_type": "code",
   "execution_count": 5,
   "id": "c7e7cfe1-d574-42b7-be4a-3b5c2739e217",
   "metadata": {
    "execution": {
     "iopub.execute_input": "2025-04-03T20:54:52.434283Z",
     "iopub.status.busy": "2025-04-03T20:54:52.432679Z",
     "iopub.status.idle": "2025-04-03T20:54:55.364255Z",
     "shell.execute_reply": "2025-04-03T20:54:55.363418Z",
     "shell.execute_reply.started": "2025-04-03T20:54:52.434229Z"
    }
   },
   "outputs": [],
   "source": [
    "\n",
    "baseline_data = preprocess_data(f\"s3://{default_bucket}/churn/churndata.csv\")\n",
    "baseline_data.pop(\"retained\")\n",
    "baseline_sample = baseline_data.sample(frac=0.0002)"
   ]
  },
  {
   "cell_type": "code",
   "execution_count": 6,
   "id": "5d74ccbb-6d22-4028-af32-7fac9343a026",
   "metadata": {
    "execution": {
     "iopub.execute_input": "2025-04-03T20:54:55.368405Z",
     "iopub.status.busy": "2025-04-03T20:54:55.367764Z",
     "iopub.status.idle": "2025-04-03T20:54:55.381688Z",
     "shell.execute_reply": "2025-04-03T20:54:55.379448Z",
     "shell.execute_reply.started": "2025-04-03T20:54:55.368365Z"
    }
   },
   "outputs": [],
   "source": [
    "pd.DataFrame(baseline_sample).to_csv(\"baseline.csv\",header=False,index=False)"
   ]
  },
  {
   "cell_type": "code",
   "execution_count": 7,
   "id": "a64645b5-9c89-4814-804a-46700f07abc1",
   "metadata": {
    "execution": {
     "iopub.execute_input": "2025-04-03T20:54:55.383509Z",
     "iopub.status.busy": "2025-04-03T20:54:55.383243Z",
     "iopub.status.idle": "2025-04-03T20:54:57.561175Z",
     "shell.execute_reply": "2025-04-03T20:54:57.560333Z",
     "shell.execute_reply.started": "2025-04-03T20:54:55.383485Z"
    }
   },
   "outputs": [],
   "source": [
    "batch_data = preprocess_data(\"churndata.csv\")\n",
    "batch_data.pop(\"retained\")\n",
    "batch_sample = batch_data.sample(frac=0.2)"
   ]
  },
  {
   "cell_type": "code",
   "execution_count": 8,
   "id": "5bcbe355-5307-4e30-ad6d-981f5549c5a1",
   "metadata": {
    "execution": {
     "iopub.execute_input": "2025-04-03T20:54:57.562818Z",
     "iopub.status.busy": "2025-04-03T20:54:57.562338Z",
     "iopub.status.idle": "2025-04-03T20:54:57.650699Z",
     "shell.execute_reply": "2025-04-03T20:54:57.648909Z",
     "shell.execute_reply.started": "2025-04-03T20:54:57.562766Z"
    }
   },
   "outputs": [],
   "source": [
    "pd.DataFrame(batch_sample).to_csv(\"batch.csv\",header=False,index=False)"
   ]
  },
  {
   "cell_type": "code",
   "execution_count": 22,
   "id": "4ac39277-d067-430b-8ecc-aea18dd0ef62",
   "metadata": {
    "execution": {
     "iopub.execute_input": "2025-04-03T22:06:25.888544Z",
     "iopub.status.busy": "2025-04-03T22:06:25.888012Z",
     "iopub.status.idle": "2025-04-03T22:06:26.173352Z",
     "shell.execute_reply": "2025-04-03T22:06:26.170065Z",
     "shell.execute_reply.started": "2025-04-03T22:06:25.888515Z"
    }
   },
   "outputs": [],
   "source": [
    "s3_client = boto3.resource('s3')\n",
    "s3_client.Bucket(default_bucket).upload_file(\"churndata.csv\",\"churn/churndata.csv\")\n",
    "s3_client.Bucket(default_bucket).upload_file(\"batch.csv\",\"data/batch/batch.csv\")\n",
    "s3_client.Bucket(default_bucket).upload_file(\"baseline.csv\",\"data/baseline.csv\")"
   ]
  },
  {
   "cell_type": "code",
   "execution_count": 23,
   "id": "ef1d2353-8ab3-4b9e-84ca-537303c25bcc",
   "metadata": {
    "execution": {
     "iopub.execute_input": "2025-04-03T22:06:28.724622Z",
     "iopub.status.busy": "2025-04-03T22:06:28.724244Z",
     "iopub.status.idle": "2025-04-03T22:06:28.822730Z",
     "shell.execute_reply": "2025-04-03T22:06:28.821843Z",
     "shell.execute_reply.started": "2025-04-03T22:06:28.724597Z"
    }
   },
   "outputs": [],
   "source": [
    "s3_client.Bucket(default_bucket).upload_file(\"pipelines/customerchurn/Preprocess.py\",\"pipelines/customerchurn/Preprocess.py\")\n",
    "s3_client.Bucket(default_bucket).upload_file(\"pipelines/customerchurn/Evaluate.py\",\"pipelines/customerchurn/Evaluate.py\")\n",
    "s3_client.Bucket(default_bucket).upload_file(\"pipelines/customerchurn/Generate_config.py\",\"pipelines/customerchurn/Generate_config.py\")"
   ]
  },
  {
   "cell_type": "code",
   "execution_count": 24,
   "id": "433c956f-a0dc-4db0-b9f8-aa3b9c2a4f85",
   "metadata": {
    "execution": {
     "iopub.execute_input": "2025-04-03T22:06:30.819274Z",
     "iopub.status.busy": "2025-04-03T22:06:30.818919Z",
     "iopub.status.idle": "2025-04-03T22:06:30.979232Z",
     "shell.execute_reply": "2025-04-03T22:06:30.977811Z",
     "shell.execute_reply.started": "2025-04-03T22:06:30.819250Z"
    }
   },
   "outputs": [
    {
     "name": "stdout",
     "output_type": "stream",
     "text": [
      "Contents of bucket 'rosa-churn-data-2025':\n",
      "\n",
      "• churn/churndata.csv\n",
      "• clarify-output/bias/analysis_config.json\n",
      "• clarify/bias-report/analysis_config.json\n",
      "• clarify/clarify_bias_config.json\n",
      "• data/baseline.csv\n",
      "• data/batch.csv\n",
      "• data/batch/batch.csv\n",
      "• data/test/test.csv\n",
      "• data/train/train.csv\n",
      "• data/validation/validation.csv\n",
      "• debugger/demo-smdebug-xgboost-churn-classificati-2025-04-03-18-41-47-373/debug-output/collections/000000000/worker_0_collections.json\n",
      "• debugger/demo-smdebug-xgboost-churn-classificati-2025-04-03-18-41-47-373/debug-output/events/000000000000/000000000000_worker_0.tfevents\n",
      "• debugger/demo-smdebug-xgboost-churn-classificati-2025-04-03-18-41-47-373/debug-output/events/000000000005/000000000005_worker_0.tfevents\n",
      "• debugger/demo-smdebug-xgboost-churn-classificati-2025-04-03-18-41-47-373/debug-output/events/000000000010/000000000010_worker_0.tfevents\n",
      "• debugger/demo-smdebug-xgboost-churn-classificati-2025-04-03-18-41-47-373/debug-output/events/000000000015/000000000015_worker_0.tfevents\n",
      "• debugger/demo-smdebug-xgboost-churn-classificati-2025-04-03-18-41-47-373/debug-output/events/000000000020/000000000020_worker_0.tfevents\n",
      "• debugger/demo-smdebug-xgboost-churn-classificati-2025-04-03-18-41-47-373/debug-output/events/000000000025/000000000025_worker_0.tfevents\n",
      "• debugger/demo-smdebug-xgboost-churn-classificati-2025-04-03-18-41-47-373/debug-output/events/000000000030/000000000030_worker_0.tfevents\n",
      "• debugger/demo-smdebug-xgboost-churn-classificati-2025-04-03-18-41-47-373/debug-output/events/000000000035/000000000035_worker_0.tfevents\n",
      "• debugger/demo-smdebug-xgboost-churn-classificati-2025-04-03-18-41-47-373/debug-output/events/000000000040/000000000040_worker_0.tfevents\n",
      "• debugger/demo-smdebug-xgboost-churn-classificati-2025-04-03-18-41-47-373/debug-output/events/000000000045/000000000045_worker_0.tfevents\n",
      "• debugger/demo-smdebug-xgboost-churn-classificati-2025-04-03-18-41-47-373/debug-output/events/000000000050/000000000050_worker_0.tfevents\n",
      "• debugger/demo-smdebug-xgboost-churn-classificati-2025-04-03-18-41-47-373/debug-output/events/000000000055/000000000055_worker_0.tfevents\n",
      "• debugger/demo-smdebug-xgboost-churn-classificati-2025-04-03-18-41-47-373/debug-output/events/000000000060/000000000060_worker_0.tfevents\n",
      "• debugger/demo-smdebug-xgboost-churn-classificati-2025-04-03-18-41-47-373/debug-output/events/000000000065/000000000065_worker_0.tfevents\n",
      "• debugger/demo-smdebug-xgboost-churn-classificati-2025-04-03-18-41-47-373/debug-output/events/000000000070/000000000070_worker_0.tfevents\n",
      "• debugger/demo-smdebug-xgboost-churn-classificati-2025-04-03-18-41-47-373/debug-output/events/000000000075/000000000075_worker_0.tfevents\n",
      "• debugger/demo-smdebug-xgboost-churn-classificati-2025-04-03-18-41-47-373/debug-output/events/000000000080/000000000080_worker_0.tfevents\n",
      "• debugger/demo-smdebug-xgboost-churn-classificati-2025-04-03-18-41-47-373/debug-output/events/000000000085/000000000085_worker_0.tfevents\n",
      "• debugger/demo-smdebug-xgboost-churn-classificati-2025-04-03-18-41-47-373/debug-output/events/000000000090/000000000090_worker_0.tfevents\n",
      "• debugger/demo-smdebug-xgboost-churn-classificati-2025-04-03-18-41-47-373/debug-output/events/000000000095/000000000095_worker_0.tfevents\n",
      "• debugger/demo-smdebug-xgboost-churn-classificati-2025-04-03-18-41-47-373/debug-output/index/000000000/000000000000_worker_0.json\n",
      "• debugger/demo-smdebug-xgboost-churn-classificati-2025-04-03-18-41-47-373/debug-output/index/000000000/000000000005_worker_0.json\n",
      "• debugger/demo-smdebug-xgboost-churn-classificati-2025-04-03-18-41-47-373/debug-output/index/000000000/000000000010_worker_0.json\n",
      "• debugger/demo-smdebug-xgboost-churn-classificati-2025-04-03-18-41-47-373/debug-output/index/000000000/000000000015_worker_0.json\n",
      "• debugger/demo-smdebug-xgboost-churn-classificati-2025-04-03-18-41-47-373/debug-output/index/000000000/000000000020_worker_0.json\n",
      "• debugger/demo-smdebug-xgboost-churn-classificati-2025-04-03-18-41-47-373/debug-output/index/000000000/000000000025_worker_0.json\n",
      "• debugger/demo-smdebug-xgboost-churn-classificati-2025-04-03-18-41-47-373/debug-output/index/000000000/000000000030_worker_0.json\n",
      "• debugger/demo-smdebug-xgboost-churn-classificati-2025-04-03-18-41-47-373/debug-output/index/000000000/000000000035_worker_0.json\n",
      "• debugger/demo-smdebug-xgboost-churn-classificati-2025-04-03-18-41-47-373/debug-output/index/000000000/000000000040_worker_0.json\n",
      "• debugger/demo-smdebug-xgboost-churn-classificati-2025-04-03-18-41-47-373/debug-output/index/000000000/000000000045_worker_0.json\n",
      "• debugger/demo-smdebug-xgboost-churn-classificati-2025-04-03-18-41-47-373/debug-output/index/000000000/000000000050_worker_0.json\n",
      "• debugger/demo-smdebug-xgboost-churn-classificati-2025-04-03-18-41-47-373/debug-output/index/000000000/000000000055_worker_0.json\n",
      "• debugger/demo-smdebug-xgboost-churn-classificati-2025-04-03-18-41-47-373/debug-output/index/000000000/000000000060_worker_0.json\n",
      "• debugger/demo-smdebug-xgboost-churn-classificati-2025-04-03-18-41-47-373/debug-output/index/000000000/000000000065_worker_0.json\n",
      "• debugger/demo-smdebug-xgboost-churn-classificati-2025-04-03-18-41-47-373/debug-output/index/000000000/000000000070_worker_0.json\n",
      "• debugger/demo-smdebug-xgboost-churn-classificati-2025-04-03-18-41-47-373/debug-output/index/000000000/000000000075_worker_0.json\n",
      "• debugger/demo-smdebug-xgboost-churn-classificati-2025-04-03-18-41-47-373/debug-output/index/000000000/000000000080_worker_0.json\n",
      "• debugger/demo-smdebug-xgboost-churn-classificati-2025-04-03-18-41-47-373/debug-output/index/000000000/000000000085_worker_0.json\n",
      "• debugger/demo-smdebug-xgboost-churn-classificati-2025-04-03-18-41-47-373/debug-output/index/000000000/000000000090_worker_0.json\n",
      "• debugger/demo-smdebug-xgboost-churn-classificati-2025-04-03-18-41-47-373/debug-output/index/000000000/000000000095_worker_0.json\n",
      "• debugger/demo-smdebug-xgboost-churn-classificati-2025-04-03-18-41-47-373/debug-output/training_job_end.ts\n",
      "• debugger/demo-smdebug-xgboost-churn-classificati-2025-04-03-19-06-55-905/debug-output/collections/000000000/worker_0_collections.json\n",
      "• debugger/demo-smdebug-xgboost-churn-classificati-2025-04-03-19-06-55-905/debug-output/events/000000000000/000000000000_worker_0.tfevents\n",
      "• debugger/demo-smdebug-xgboost-churn-classificati-2025-04-03-19-06-55-905/debug-output/events/000000000005/000000000005_worker_0.tfevents\n",
      "• debugger/demo-smdebug-xgboost-churn-classificati-2025-04-03-19-06-55-905/debug-output/events/000000000010/000000000010_worker_0.tfevents\n",
      "• debugger/demo-smdebug-xgboost-churn-classificati-2025-04-03-19-06-55-905/debug-output/events/000000000015/000000000015_worker_0.tfevents\n",
      "• debugger/demo-smdebug-xgboost-churn-classificati-2025-04-03-19-06-55-905/debug-output/events/000000000020/000000000020_worker_0.tfevents\n",
      "• debugger/demo-smdebug-xgboost-churn-classificati-2025-04-03-19-06-55-905/debug-output/events/000000000025/000000000025_worker_0.tfevents\n",
      "• debugger/demo-smdebug-xgboost-churn-classificati-2025-04-03-19-06-55-905/debug-output/events/000000000030/000000000030_worker_0.tfevents\n",
      "• debugger/demo-smdebug-xgboost-churn-classificati-2025-04-03-19-06-55-905/debug-output/events/000000000035/000000000035_worker_0.tfevents\n",
      "• debugger/demo-smdebug-xgboost-churn-classificati-2025-04-03-19-06-55-905/debug-output/events/000000000040/000000000040_worker_0.tfevents\n",
      "• debugger/demo-smdebug-xgboost-churn-classificati-2025-04-03-19-06-55-905/debug-output/events/000000000045/000000000045_worker_0.tfevents\n",
      "• debugger/demo-smdebug-xgboost-churn-classificati-2025-04-03-19-06-55-905/debug-output/events/000000000050/000000000050_worker_0.tfevents\n",
      "• debugger/demo-smdebug-xgboost-churn-classificati-2025-04-03-19-06-55-905/debug-output/events/000000000055/000000000055_worker_0.tfevents\n",
      "• debugger/demo-smdebug-xgboost-churn-classificati-2025-04-03-19-06-55-905/debug-output/events/000000000060/000000000060_worker_0.tfevents\n",
      "• debugger/demo-smdebug-xgboost-churn-classificati-2025-04-03-19-06-55-905/debug-output/events/000000000065/000000000065_worker_0.tfevents\n",
      "• debugger/demo-smdebug-xgboost-churn-classificati-2025-04-03-19-06-55-905/debug-output/events/000000000070/000000000070_worker_0.tfevents\n",
      "• debugger/demo-smdebug-xgboost-churn-classificati-2025-04-03-19-06-55-905/debug-output/events/000000000075/000000000075_worker_0.tfevents\n",
      "• debugger/demo-smdebug-xgboost-churn-classificati-2025-04-03-19-06-55-905/debug-output/events/000000000080/000000000080_worker_0.tfevents\n",
      "• debugger/demo-smdebug-xgboost-churn-classificati-2025-04-03-19-06-55-905/debug-output/events/000000000085/000000000085_worker_0.tfevents\n",
      "• debugger/demo-smdebug-xgboost-churn-classificati-2025-04-03-19-06-55-905/debug-output/events/000000000090/000000000090_worker_0.tfevents\n",
      "• debugger/demo-smdebug-xgboost-churn-classificati-2025-04-03-19-06-55-905/debug-output/events/000000000095/000000000095_worker_0.tfevents\n",
      "• debugger/demo-smdebug-xgboost-churn-classificati-2025-04-03-19-06-55-905/debug-output/index/000000000/000000000000_worker_0.json\n",
      "• debugger/demo-smdebug-xgboost-churn-classificati-2025-04-03-19-06-55-905/debug-output/index/000000000/000000000005_worker_0.json\n",
      "• debugger/demo-smdebug-xgboost-churn-classificati-2025-04-03-19-06-55-905/debug-output/index/000000000/000000000010_worker_0.json\n",
      "• debugger/demo-smdebug-xgboost-churn-classificati-2025-04-03-19-06-55-905/debug-output/index/000000000/000000000015_worker_0.json\n",
      "• debugger/demo-smdebug-xgboost-churn-classificati-2025-04-03-19-06-55-905/debug-output/index/000000000/000000000020_worker_0.json\n",
      "• debugger/demo-smdebug-xgboost-churn-classificati-2025-04-03-19-06-55-905/debug-output/index/000000000/000000000025_worker_0.json\n",
      "• debugger/demo-smdebug-xgboost-churn-classificati-2025-04-03-19-06-55-905/debug-output/index/000000000/000000000030_worker_0.json\n",
      "• debugger/demo-smdebug-xgboost-churn-classificati-2025-04-03-19-06-55-905/debug-output/index/000000000/000000000035_worker_0.json\n",
      "• debugger/demo-smdebug-xgboost-churn-classificati-2025-04-03-19-06-55-905/debug-output/index/000000000/000000000040_worker_0.json\n",
      "• debugger/demo-smdebug-xgboost-churn-classificati-2025-04-03-19-06-55-905/debug-output/index/000000000/000000000045_worker_0.json\n",
      "• debugger/demo-smdebug-xgboost-churn-classificati-2025-04-03-19-06-55-905/debug-output/index/000000000/000000000050_worker_0.json\n",
      "• debugger/demo-smdebug-xgboost-churn-classificati-2025-04-03-19-06-55-905/debug-output/index/000000000/000000000055_worker_0.json\n",
      "• debugger/demo-smdebug-xgboost-churn-classificati-2025-04-03-19-06-55-905/debug-output/index/000000000/000000000060_worker_0.json\n",
      "• debugger/demo-smdebug-xgboost-churn-classificati-2025-04-03-19-06-55-905/debug-output/index/000000000/000000000065_worker_0.json\n",
      "• debugger/demo-smdebug-xgboost-churn-classificati-2025-04-03-19-06-55-905/debug-output/index/000000000/000000000070_worker_0.json\n",
      "• debugger/demo-smdebug-xgboost-churn-classificati-2025-04-03-19-06-55-905/debug-output/index/000000000/000000000075_worker_0.json\n",
      "• debugger/demo-smdebug-xgboost-churn-classificati-2025-04-03-19-06-55-905/debug-output/index/000000000/000000000080_worker_0.json\n",
      "• debugger/demo-smdebug-xgboost-churn-classificati-2025-04-03-19-06-55-905/debug-output/index/000000000/000000000085_worker_0.json\n",
      "• debugger/demo-smdebug-xgboost-churn-classificati-2025-04-03-19-06-55-905/debug-output/index/000000000/000000000090_worker_0.json\n",
      "• debugger/demo-smdebug-xgboost-churn-classificati-2025-04-03-19-06-55-905/debug-output/index/000000000/000000000095_worker_0.json\n",
      "• debugger/demo-smdebug-xgboost-churn-classificati-2025-04-03-19-06-55-905/debug-output/training_job_end.ts\n",
      "• output/demo-smdebug-xgboost-churn-classificati-2025-04-03-18-41-47-373/output/model.tar.gz\n",
      "• output/demo-smdebug-xgboost-churn-classificati-2025-04-03-18-41-47-373/profiler-output/framework/training_job_end.ts\n",
      "• output/demo-smdebug-xgboost-churn-classificati-2025-04-03-18-41-47-373/profiler-output/system/incremental/2025040318/1743705720.algo-1.json\n",
      "• output/demo-smdebug-xgboost-churn-classificati-2025-04-03-18-41-47-373/profiler-output/system/incremental/2025040318/1743705780.algo-1.json\n",
      "• output/demo-smdebug-xgboost-churn-classificati-2025-04-03-18-41-47-373/profiler-output/system/incremental/2025040318/1743705840.algo-1.json\n",
      "• output/demo-smdebug-xgboost-churn-classificati-2025-04-03-18-41-47-373/profiler-output/system/training_job_end.ts\n",
      "• output/demo-smdebug-xgboost-churn-classificati-2025-04-03-19-06-55-905/output/model.tar.gz\n",
      "• output/demo-smdebug-xgboost-churn-classificati-2025-04-03-19-06-55-905/profiler-output/framework/training_job_end.ts\n",
      "• output/demo-smdebug-xgboost-churn-classificati-2025-04-03-19-06-55-905/profiler-output/system/incremental/2025040319/1743707220.algo-1.json\n",
      "• output/demo-smdebug-xgboost-churn-classificati-2025-04-03-19-06-55-905/profiler-output/system/incremental/2025040319/1743707280.algo-1.json\n",
      "• output/demo-smdebug-xgboost-churn-classificati-2025-04-03-19-06-55-905/profiler-output/system/incremental/2025040319/1743707340.algo-1.json\n",
      "• output/demo-smdebug-xgboost-churn-classificati-2025-04-03-19-06-55-905/profiler-output/system/training_job_end.ts\n",
      "• output/sagemaker-xgboost-250327-1958-001-f54e30f8/output/model.tar.gz\n",
      "• output/sagemaker-xgboost-250327-1958-002-c80700c2/output/model.tar.gz\n",
      "• output/sagemaker-xgboost-250327-1958-003-9c831f47/output/model.tar.gz\n",
      "• output/sagemaker-xgboost-250327-1958-004-3000694f/output/model.tar.gz\n",
      "• output/sagemaker-xgboost-250327-1958-005-e8b25917/output/model.tar.gz\n",
      "• output/sagemaker-xgboost-250327-1958-006-e8f62da3/output/model.tar.gz\n",
      "• output/sagemaker-xgboost-250327-1958-007-b6fd6186/output/model.tar.gz\n",
      "• output/sagemaker-xgboost-250327-1958-008-e8745f2c/output/model.tar.gz\n",
      "• output/sagemaker-xgboost-250327-1958-009-3854e145/output/model.tar.gz\n",
      "• output/sagemaker-xgboost-250327-1958-010-9e897339/output/model.tar.gz\n",
      "• output/sagemaker-xgboost-250401-1624-001-be15bf64/output/model.tar.gz\n",
      "• output/sagemaker-xgboost-250401-1624-002-e18462d5/output/model.tar.gz\n",
      "• output/sagemaker-xgboost-250401-1624-003-f674fa72/output/model.tar.gz\n",
      "• output/sagemaker-xgboost-250401-1624-004-e629baa8/output/model.tar.gz\n",
      "• output/sagemaker-xgboost-250401-1624-005-90d0d7ca/output/model.tar.gz\n",
      "• output/sagemaker-xgboost-250401-1624-006-5ba0e5ee/output/model.tar.gz\n",
      "• output/sagemaker-xgboost-250401-1624-007-ad24c083/output/model.tar.gz\n",
      "• output/sagemaker-xgboost-250401-1624-008-3a4568e4/output/model.tar.gz\n",
      "• output/sagemaker-xgboost-250401-1624-009-7563f119/output/model.tar.gz\n",
      "• output/sagemaker-xgboost-250401-1624-010-42b44121/output/model.tar.gz\n",
      "• output/sagemaker-xgboost-250402-2247-001-4275c933/output/model.tar.gz\n",
      "• output/sagemaker-xgboost-250402-2247-002-e2efe0d3/output/model.tar.gz\n",
      "• output/sagemaker-xgboost-250402-2247-003-b19dc39e/output/model.tar.gz\n",
      "• output/sagemaker-xgboost-250402-2247-004-2967243a/output/model.tar.gz\n",
      "• output/sagemaker-xgboost-250402-2247-005-0e627979/output/model.tar.gz\n",
      "• output/sagemaker-xgboost-250402-2247-006-af66511f/output/model.tar.gz\n",
      "• output/sagemaker-xgboost-250402-2247-007-ee07ed03/output/model.tar.gz\n",
      "• output/sagemaker-xgboost-250402-2247-008-6b8e0d18/output/model.tar.gz\n",
      "• output/sagemaker-xgboost-250402-2247-009-050e8fb4/output/model.tar.gz\n",
      "• output/sagemaker-xgboost-250402-2247-010-13618cde/output/model.tar.gz\n",
      "• output/sagemaker-xgboost-250403-1815-001-59cfffb0/output/model.tar.gz\n",
      "• output/sagemaker-xgboost-250403-1815-002-cc735d4d/output/model.tar.gz\n",
      "• output/sagemaker-xgboost-250403-1815-003-69fffef4/output/model.tar.gz\n",
      "• output/sagemaker-xgboost-250403-1815-004-888682e7/output/model.tar.gz\n",
      "• output/sagemaker-xgboost-250403-1815-005-60411e36/output/model.tar.gz\n",
      "• output/sagemaker-xgboost-250403-1815-006-33a5aec5/output/model.tar.gz\n",
      "• output/sagemaker-xgboost-250403-1815-007-25abaaf8/output/model.tar.gz\n",
      "• output/sagemaker-xgboost-250403-1815-008-5ef20341/output/model.tar.gz\n",
      "• output/sagemaker-xgboost-250403-1815-009-5f6c628b/output/model.tar.gz\n",
      "• output/sagemaker-xgboost-250403-1815-010-526f573b/output/model.tar.gz\n",
      "• output/sagemaker-xgboost-250403-1900-001-600aeccb/output/model.tar.gz\n",
      "• output/sagemaker-xgboost-250403-1900-002-1b8ae87a/output/model.tar.gz\n",
      "• output/sagemaker-xgboost-250403-1900-003-b5f8106b/output/model.tar.gz\n",
      "• output/sagemaker-xgboost-250403-1900-004-b20fffbb/output/model.tar.gz\n",
      "• output/sagemaker-xgboost-250403-1900-005-02428055/output/model.tar.gz\n",
      "• output/sagemaker-xgboost-250403-1900-006-a67f920b/output/model.tar.gz\n",
      "• output/sagemaker-xgboost-250403-1900-007-ef120f6b/output/model.tar.gz\n",
      "• output/sagemaker-xgboost-250403-1900-008-8727bc43/output/model.tar.gz\n",
      "• output/sagemaker-xgboost-250403-1900-009-09efb351/output/model.tar.gz\n",
      "• output/sagemaker-xgboost-250403-1900-010-07284fa2/output/model.tar.gz\n",
      "• pipelines/customerchurn/Evaluate.py\n",
      "• pipelines/customerchurn/Generate_config.py\n",
      "• pipelines/customerchurn/Pipeline.py\n",
      "• pipelines/customerchurn/Preprocess.py\n"
     ]
    }
   ],
   "source": [
    "import boto3\n",
    "\n",
    "# Set your bucket name\n",
    "bucket_name = \"rosa-churn-data-2025\"\n",
    "\n",
    "# Create an S3 client\n",
    "s3 = boto3.client(\"s3\")\n",
    "\n",
    "# List objects in the bucket\n",
    "response = s3.list_objects_v2(Bucket=bucket_name)\n",
    "\n",
    "# Check and print the structure\n",
    "if \"Contents\" in response:\n",
    "    print(f\"Contents of bucket '{bucket_name}':\\n\")\n",
    "    for obj in response[\"Contents\"]:\n",
    "        print(\"•\", obj[\"Key\"])\n",
    "else:\n",
    "    print(f\"Bucket '{bucket_name}' is empty.\")"
   ]
  },
  {
   "cell_type": "markdown",
   "id": "5d430cdc-3836-4f80-86ca-19f2d4e56de0",
   "metadata": {},
   "source": [
    "# Get the Pipeline Instance"
   ]
  },
  {
   "cell_type": "code",
   "execution_count": 12,
   "id": "77e4f209-db9c-4058-9da5-e179881f8570",
   "metadata": {
    "execution": {
     "iopub.execute_input": "2025-04-03T20:54:58.590604Z",
     "iopub.status.busy": "2025-04-03T20:54:58.590239Z",
     "iopub.status.idle": "2025-04-03T20:54:58.595331Z",
     "shell.execute_reply": "2025-04-03T20:54:58.594401Z",
     "shell.execute_reply.started": "2025-04-03T20:54:58.590574Z"
    }
   },
   "outputs": [
    {
     "name": "stdout",
     "output_type": "stream",
     "text": [
      "2.227.0\n"
     ]
    }
   ],
   "source": [
    "import sagemaker\n",
    "print(sagemaker.__version__)"
   ]
  },
  {
   "cell_type": "code",
   "execution_count": 27,
   "id": "30afb9a1-34b8-4b61-8bf8-822b3ed54f58",
   "metadata": {
    "execution": {
     "iopub.execute_input": "2025-04-03T22:25:08.748234Z",
     "iopub.status.busy": "2025-04-03T22:25:08.747894Z",
     "iopub.status.idle": "2025-04-03T22:25:09.099251Z",
     "shell.execute_reply": "2025-04-03T22:25:09.098337Z",
     "shell.execute_reply.started": "2025-04-03T22:25:08.748210Z"
    }
   },
   "outputs": [
    {
     "name": "stdout",
     "output_type": "stream",
     "text": [
      "sagemaker.config INFO - Applied value from config key = SageMaker.PythonSDK.Modules.Session.DefaultS3Bucket\n",
      "sagemaker.config INFO - Applied value from config key = SageMaker.PythonSDK.Modules.Session.DefaultS3ObjectKeyPrefix\n",
      "Region: us-east-2\n"
     ]
    }
   ],
   "source": [
    "import sagemaker\n",
    "\n",
    "# Initialize a SageMaker session\n",
    "sagemaker_session = sagemaker.Session()\n",
    "\n",
    "# Get the current AWS region\n",
    "region = sagemaker_session.boto_region_name\n",
    "print(f\"Region: {region}\")"
   ]
  },
  {
   "cell_type": "code",
   "execution_count": 26,
   "id": "ca172172-7705-486f-b081-82c92297668a",
   "metadata": {
    "execution": {
     "iopub.execute_input": "2025-04-03T22:23:38.135700Z",
     "iopub.status.busy": "2025-04-03T22:23:38.134997Z",
     "iopub.status.idle": "2025-04-03T22:23:38.978531Z",
     "shell.execute_reply": "2025-04-03T22:23:38.976047Z",
     "shell.execute_reply.started": "2025-04-03T22:23:38.135671Z"
    }
   },
   "outputs": [
    {
     "name": "stdout",
     "output_type": "stream",
     "text": [
      "sagemaker.config INFO - Applied value from config key = SageMaker.PythonSDK.Modules.Session.DefaultS3Bucket\n",
      "sagemaker.config INFO - Applied value from config key = SageMaker.PythonSDK.Modules.Session.DefaultS3ObjectKeyPrefix\n",
      "Region: us-east-2\n",
      "sagemaker.config INFO - Applied value from config key = SageMaker.PythonSDK.Modules.Session.DefaultS3Bucket\n",
      "sagemaker.config INFO - Applied value from config key = SageMaker.PythonSDK.Modules.Session.DefaultS3ObjectKeyPrefix\n",
      "IAM Role: arn:aws:iam::779846812208:role/datazone_usr_role_3uvk2n13teqizt_58a7eoris5xezt\n"
     ]
    }
   ],
   "source": [
    "import sagemaker\n",
    "\n",
    "# Get the current AWS region\n",
    "sagemaker_session = sagemaker.Session()\n",
    "region = sagemaker_session.boto_region_name\n",
    "print(f\"Region: {region}\")\n",
    "\n",
    "# Get the IAM role associated with your SageMaker execution\n",
    "role = sagemaker.get_execution_role()\n",
    "print(f\"IAM Role: {role}\")"
   ]
  },
  {
   "cell_type": "code",
   "execution_count": 1,
   "id": "72f66197-f6aa-4b70-a2fe-ca3fe21045c1",
   "metadata": {
    "execution": {
     "iopub.execute_input": "2025-04-04T19:38:02.680914Z",
     "iopub.status.busy": "2025-04-04T19:38:02.678507Z",
     "iopub.status.idle": "2025-04-04T19:38:11.738220Z",
     "shell.execute_reply": "2025-04-04T19:38:11.737182Z",
     "shell.execute_reply.started": "2025-04-04T19:38:02.680881Z"
    },
    "scrolled": true
   },
   "outputs": [
    {
     "name": "stdout",
     "output_type": "stream",
     "text": [
      "sagemaker.config INFO - Fetched defaults config from location: /etc/xdg/sagemaker/config.yaml\n",
      "sagemaker.config INFO - Not applying SDK defaults from location: /home/sagemaker-user/.config/sagemaker/config.yaml\n",
      "sagemaker.config INFO - Applied value from config key = SageMaker.PythonSDK.Modules.Session.DefaultS3Bucket\n",
      "sagemaker.config INFO - Applied value from config key = SageMaker.PythonSDK.Modules.Session.DefaultS3ObjectKeyPrefix\n",
      "sagemaker.config INFO - Applied value from config key = SageMaker.PythonSDK.Modules.Session.DefaultS3Bucket\n",
      "sagemaker.config INFO - Applied value from config key = SageMaker.PythonSDK.Modules.Session.DefaultS3ObjectKeyPrefix\n",
      "sagemaker.config INFO - Applied value from config key = SageMaker.TrainingJob.VpcConfig.Subnets\n",
      "sagemaker.config INFO - Applied value from config key = SageMaker.TrainingJob.VpcConfig.SecurityGroupIds\n",
      "{\"Version\": \"2020-12-01\", \"Metadata\": {}, \"Parameters\": [{\"Name\": \"ProcessingInstanceType\", \"Type\": \"String\", \"DefaultValue\": \"ml.t3.medium\"}, {\"Name\": \"ProcessingInstanceCount\", \"Type\": \"Integer\", \"DefaultValue\": 1}, {\"Name\": \"TrainingInstanceType\", \"Type\": \"String\", \"DefaultValue\": \"ml.t3.medium\"}, {\"Name\": \"InputData\", \"Type\": \"String\", \"DefaultValue\": \"s3://rosa-churn-data-2025/churn/churndata.csv\"}, {\"Name\": \"BatchData\", \"Type\": \"String\", \"DefaultValue\": \"s3://rosa-churn-data-2025/data/batch/batch.csv\"}], \"PipelineExperimentConfig\": {\"ExperimentName\": {\"Get\": \"Execution.PipelineName\"}, \"TrialName\": {\"Get\": \"Execution.PipelineExecutionId\"}}, \"Steps\": [{\"Name\": \"ChurnPreprocessing\", \"Type\": \"Processing\", \"Arguments\": {\"ProcessingResources\": {\"ClusterConfig\": {\"InstanceType\": \"ml.t3.medium\", \"InstanceCount\": 1, \"VolumeSizeInGB\": 30}}, \"AppSpecification\": {\"ImageUri\": \"257758044811.dkr.ecr.us-east-2.amazonaws.com/sagemaker-scikit-learn:0.23-1-cpu-py3\", \"ContainerEntrypoint\": [\"python3\", \"/opt/ml/processing/input/code/Preprocess.py\"]}, \"RoleArn\": \"arn:aws:iam::779846812208:role/datazone_usr_role_3uvk2n13teqizt_58a7eoris5xezt\", \"ProcessingInputs\": [{\"InputName\": \"input-1\", \"AppManaged\": false, \"S3Input\": {\"S3Uri\": \"s3://rosa-churn-data-2025/churn/churndata.csv\", \"LocalPath\": \"/opt/ml/processing/input\", \"S3DataType\": \"S3Prefix\", \"S3InputMode\": \"File\", \"S3DataDistributionType\": \"FullyReplicated\", \"S3CompressionType\": \"None\"}}, {\"InputName\": \"code\", \"AppManaged\": false, \"S3Input\": {\"S3Uri\": \"s3://amazon-sagemaker-779846812208-us-east-2-424ff6b1c24d/dzd_5tcobnrde6e76x/3uvk2n13teqizt/dev/ChurnModelPipeline/code/5e5085fb2fd8d91b1bcd74f288527ee1/Preprocess.py\", \"LocalPath\": \"/opt/ml/processing/input/code\", \"S3DataType\": \"S3Prefix\", \"S3InputMode\": \"File\", \"S3DataDistributionType\": \"FullyReplicated\", \"S3CompressionType\": \"None\"}}], \"ProcessingOutputConfig\": {\"Outputs\": [{\"OutputName\": \"train\", \"AppManaged\": false, \"S3Output\": {\"S3Uri\": {\"Std:Join\": {\"On\": \"/\", \"Values\": [\"s3:/\", \"amazon-sagemaker-779846812208-us-east-2-424ff6b1c24d\", \"dzd_5tcobnrde6e76x/3uvk2n13teqizt/dev\", \"ChurnModelPipeline\", {\"Get\": \"Execution.PipelineExecutionId\"}, \"ChurnPreprocessing\", \"output\", \"train\"]}}, \"LocalPath\": \"/opt/ml/processing/train\", \"S3UploadMode\": \"EndOfJob\"}}, {\"OutputName\": \"validation\", \"AppManaged\": false, \"S3Output\": {\"S3Uri\": {\"Std:Join\": {\"On\": \"/\", \"Values\": [\"s3:/\", \"amazon-sagemaker-779846812208-us-east-2-424ff6b1c24d\", \"dzd_5tcobnrde6e76x/3uvk2n13teqizt/dev\", \"ChurnModelPipeline\", {\"Get\": \"Execution.PipelineExecutionId\"}, \"ChurnPreprocessing\", \"output\", \"validation\"]}}, \"LocalPath\": \"/opt/ml/processing/validation\", \"S3UploadMode\": \"EndOfJob\"}}, {\"OutputName\": \"test\", \"AppManaged\": false, \"S3Output\": {\"S3Uri\": {\"Std:Join\": {\"On\": \"/\", \"Values\": [\"s3:/\", \"amazon-sagemaker-779846812208-us-east-2-424ff6b1c24d\", \"dzd_5tcobnrde6e76x/3uvk2n13teqizt/dev\", \"ChurnModelPipeline\", {\"Get\": \"Execution.PipelineExecutionId\"}, \"ChurnPreprocessing\", \"output\", \"test\"]}}, \"LocalPath\": \"/opt/ml/processing/test\", \"S3UploadMode\": \"EndOfJob\"}}]}, \"NetworkConfig\": {\"VpcConfig\": {\"SecurityGroupIds\": [\"sg-0aad6fd2b7e2b0b8e\", \"sg-0a419771d915d0781\"], \"Subnets\": [\"subnet-0e5b3c09a7803aec1\"]}, \"EnableNetworkIsolation\": false}}}, {\"Name\": \"ChurnModelTuning\", \"Type\": \"Tuning\", \"Arguments\": {\"HyperParameterTuningJobConfig\": {\"Strategy\": \"Bayesian\", \"ResourceLimits\": {\"MaxNumberOfTrainingJobs\": 10, \"MaxParallelTrainingJobs\": 2}, \"TrainingJobEarlyStoppingType\": \"Off\", \"HyperParameterTuningJobObjective\": {\"Type\": \"Maximize\", \"MetricName\": \"validation:auc\"}, \"ParameterRanges\": {\"ContinuousParameterRanges\": [{\"Name\": \"eta\", \"MinValue\": \"0\", \"MaxValue\": \"1\", \"ScalingType\": \"Auto\"}, {\"Name\": \"min_child_weight\", \"MinValue\": \"1\", \"MaxValue\": \"10\", \"ScalingType\": \"Auto\"}, {\"Name\": \"alpha\", \"MinValue\": \"0\", \"MaxValue\": \"2\", \"ScalingType\": \"Auto\"}], \"CategoricalParameterRanges\": [], \"IntegerParameterRanges\": [{\"Name\": \"max_depth\", \"MinValue\": \"1\", \"MaxValue\": \"10\", \"ScalingType\": \"Auto\"}]}}, \"TrainingJobDefinition\": {\"StaticHyperParameters\": {\"eval_metric\": \"auc\", \"objective\": \"binary:logistic\", \"num_round\": \"100\", \"rate_drop\": \"0.3\", \"tweedie_variance_power\": \"1.4\"}, \"RoleArn\": \"arn:aws:iam::779846812208:role/datazone_usr_role_3uvk2n13teqizt_58a7eoris5xezt\", \"OutputDataConfig\": {\"S3OutputPath\": \"s3://rosa-churn-data-2025/output\"}, \"StoppingCondition\": {\"MaxRuntimeInSeconds\": 86400}, \"HyperParameterTuningResourceConfig\": {\"InstanceCount\": 1, \"InstanceType\": \"ml.t3.medium\", \"VolumeSizeInGB\": 30}, \"AlgorithmSpecification\": {\"TrainingInputMode\": \"File\", \"TrainingImage\": \"257758044811.dkr.ecr.us-east-2.amazonaws.com/sagemaker-xgboost:1.0-1-cpu-py3\"}, \"InputDataConfig\": [{\"DataSource\": {\"S3DataSource\": {\"S3DataType\": \"S3Prefix\", \"S3Uri\": {\"Get\": \"Steps.ChurnPreprocessing.ProcessingOutputConfig.Outputs['train'].S3Output.S3Uri\"}, \"S3DataDistributionType\": \"FullyReplicated\"}}, \"ContentType\": \"text/csv\", \"ChannelName\": \"train\"}, {\"DataSource\": {\"S3DataSource\": {\"S3DataType\": \"S3Prefix\", \"S3Uri\": {\"Get\": \"Steps.ChurnPreprocessing.ProcessingOutputConfig.Outputs['validation'].S3Output.S3Uri\"}, \"S3DataDistributionType\": \"FullyReplicated\"}}, \"ContentType\": \"text/csv\", \"ChannelName\": \"validation\"}], \"VpcConfig\": {\"Subnets\": [\"subnet-0e5b3c09a7803aec1\", \"subnet-0ce19240748392c68\", \"subnet-0aeb8490f20ff12ee\"], \"SecurityGroupIds\": [\"sg-0b283a1722b0377a3\"]}}}}, {\"Name\": \"EvaluateModel\", \"Type\": \"Processing\", \"Arguments\": {\"ProcessingResources\": {\"ClusterConfig\": {\"InstanceType\": \"ml.t3.medium\", \"InstanceCount\": 1, \"VolumeSizeInGB\": 30}}, \"AppSpecification\": {\"ImageUri\": \"257758044811.dkr.ecr.us-east-2.amazonaws.com/sagemaker-xgboost:1.0-1-cpu-py3\", \"ContainerEntrypoint\": [\"python3\", \"/opt/ml/processing/input/code/Evaluate.py\"]}, \"RoleArn\": \"arn:aws:iam::779846812208:role/datazone_usr_role_3uvk2n13teqizt_58a7eoris5xezt\", \"ProcessingInputs\": [{\"InputName\": \"input-1\", \"AppManaged\": false, \"S3Input\": {\"S3Uri\": {\"Std:Join\": {\"On\": \"/\", \"Values\": [\"s3:/\", \"rosa-churn-data-2025\", \"output\", {\"Get\": \"Steps.ChurnModelTuning.TrainingJobSummaries[0].TrainingJobName\"}, \"output/model.tar.gz\"]}}, \"LocalPath\": \"/opt/ml/processing/model\", \"S3DataType\": \"S3Prefix\", \"S3InputMode\": \"File\", \"S3DataDistributionType\": \"FullyReplicated\", \"S3CompressionType\": \"None\"}}, {\"InputName\": \"input-2\", \"AppManaged\": false, \"S3Input\": {\"S3Uri\": {\"Get\": \"Steps.ChurnPreprocessing.ProcessingOutputConfig.Outputs['test'].S3Output.S3Uri\"}, \"LocalPath\": \"/opt/ml/processing/test\", \"S3DataType\": \"S3Prefix\", \"S3InputMode\": \"File\", \"S3DataDistributionType\": \"FullyReplicated\", \"S3CompressionType\": \"None\"}}, {\"InputName\": \"code\", \"AppManaged\": false, \"S3Input\": {\"S3Uri\": \"s3://amazon-sagemaker-779846812208-us-east-2-424ff6b1c24d/dzd_5tcobnrde6e76x/3uvk2n13teqizt/dev/ChurnModelPipeline/code/21699b239a5b656f3af043aef4bcd875/Evaluate.py\", \"LocalPath\": \"/opt/ml/processing/input/code\", \"S3DataType\": \"S3Prefix\", \"S3InputMode\": \"File\", \"S3DataDistributionType\": \"FullyReplicated\", \"S3CompressionType\": \"None\"}}], \"ProcessingOutputConfig\": {\"Outputs\": [{\"OutputName\": \"evaluation\", \"AppManaged\": false, \"S3Output\": {\"S3Uri\": {\"Std:Join\": {\"On\": \"/\", \"Values\": [\"s3:/\", \"amazon-sagemaker-779846812208-us-east-2-424ff6b1c24d\", \"dzd_5tcobnrde6e76x/3uvk2n13teqizt/dev\", \"ChurnModelPipeline\", {\"Get\": \"Execution.PipelineExecutionId\"}, \"EvaluateModel\", \"output\", \"evaluation\"]}}, \"LocalPath\": \"/opt/ml/processing/evaluation\", \"S3UploadMode\": \"EndOfJob\"}}]}, \"NetworkConfig\": {\"VpcConfig\": {\"SecurityGroupIds\": [\"sg-0aad6fd2b7e2b0b8e\", \"sg-0a419771d915d0781\"], \"Subnets\": [\"subnet-0e5b3c09a7803aec1\"]}, \"EnableNetworkIsolation\": false}}, \"PropertyFiles\": [{\"PropertyFileName\": \"EvaluationReport\", \"OutputName\": \"evaluation\", \"FilePath\": \"evaluation.json\"}]}, {\"Name\": \"CheckAUCCondition\", \"Type\": \"Condition\", \"Arguments\": {\"Conditions\": [{\"Type\": \"GreaterThan\", \"LeftValue\": {\"Std:JsonGet\": {\"PropertyFile\": {\"Get\": \"Steps.EvaluateModel.PropertyFiles.EvaluationReport\"}, \"Path\": \"binary_classification_metrics.auc.value\"}}, \"RightValue\": 0.75}], \"IfSteps\": [{\"Name\": \"RegisterChurnModel-RegisterModel\", \"Type\": \"RegisterModel\", \"Arguments\": {\"ModelPackageGroupName\": \"ChurnModelPackageGroup\", \"ModelMetrics\": {\"ModelQuality\": {\"Statistics\": {\"ContentType\": \"application/json\", \"S3Uri\": {\"Std:Join\": {\"On\": \"/\", \"Values\": [{\"Get\": \"Steps.EvaluateModel.ProcessingOutputConfig.Outputs['evaluation'].S3Output.S3Uri\"}, \"evaluation.json\"]}}}}, \"Bias\": {}, \"Explainability\": {}}, \"InferenceSpecification\": {\"Containers\": [{\"Image\": \"257758044811.dkr.ecr.us-east-2.amazonaws.com/sagemaker-xgboost:1.0-1-cpu-py3\", \"ModelDataUrl\": {\"Std:Join\": {\"On\": \"/\", \"Values\": [\"s3:/\", \"rosa-churn-data-2025\", \"output\", {\"Get\": \"Steps.ChurnModelTuning.TrainingJobSummaries[0].TrainingJobName\"}, \"output/model.tar.gz\"]}}}], \"SupportedContentTypes\": [\"text/csv\"], \"SupportedResponseMIMETypes\": [\"text/csv\"], \"SupportedRealtimeInferenceInstanceTypes\": [\"ml.t2.medium\", \"ml.m5.large\"], \"SupportedTransformInstanceTypes\": [\"ml.m5.large\"]}, \"ModelApprovalStatus\": \"PendingManualApproval\", \"SkipModelValidation\": \"None\"}}], \"ElseSteps\": []}}]}\n"
     ]
    }
   ],
   "source": [
    "import sagemaker\n",
    "\n",
    "# Define your parameters\n",
    "region = \"us-east-2\"\n",
    "role = \"arn:aws:iam::779846812208:role/datazone_usr_role_3uvk2n13teqizt_58a7eoris5xezt\"\n",
    "default_bucket = \"rosa-churn-data-2025\"\n",
    "model_package_group_name = \"ChurnModelPackageGroup\"\n",
    "pipeline_name = \"ChurnModelPipeline\"\n",
    "sklearn_processor_version = \"0.23-1\"\n",
    "\n",
    "# Import the get_pipeline function from your Pipeline.py\n",
    "from pipelines.customerchurn.Pipeline import get_pipeline\n",
    "\n",
    "# Get the pipeline\n",
    "pipeline = get_pipeline(\n",
    "    region=region,\n",
    "    role=role,\n",
    "    default_bucket=default_bucket,\n",
    "    model_package_group_name=model_package_group_name,\n",
    "    pipeline_name=pipeline_name,\n",
    "    sklearn_processor_version=sklearn_processor_version\n",
    ")\n",
    "\n",
    "# Print the pipeline definition to verify\n",
    "print(pipeline.definition())"
   ]
  },
  {
   "cell_type": "code",
   "execution_count": 2,
   "id": "3188cc8d-1490-40c8-88ae-49d36395c840",
   "metadata": {
    "execution": {
     "iopub.execute_input": "2025-04-04T19:40:09.372166Z",
     "iopub.status.busy": "2025-04-04T19:40:09.371803Z",
     "iopub.status.idle": "2025-04-04T19:40:12.140279Z",
     "shell.execute_reply": "2025-04-04T19:40:12.139478Z",
     "shell.execute_reply.started": "2025-04-04T19:40:09.372141Z"
    }
   },
   "outputs": [
    {
     "name": "stdout",
     "output_type": "stream",
     "text": [
      "{\"Version\": \"2020-12-01\", \"Metadata\": {}, \"Parameters\": [{\"Name\": \"ProcessingInstanceType\", \"Type\": \"String\", \"DefaultValue\": \"ml.t3.medium\"}, {\"Name\": \"ProcessingInstanceCount\", \"Type\": \"Integer\", \"DefaultValue\": 1}, {\"Name\": \"TrainingInstanceType\", \"Type\": \"String\", \"DefaultValue\": \"ml.t3.medium\"}, {\"Name\": \"InputData\", \"Type\": \"String\", \"DefaultValue\": \"s3://rosa-churn-data-2025/churn/churndata.csv\"}, {\"Name\": \"BatchData\", \"Type\": \"String\", \"DefaultValue\": \"s3://rosa-churn-data-2025/data/batch/batch.csv\"}], \"PipelineExperimentConfig\": {\"ExperimentName\": {\"Get\": \"Execution.PipelineName\"}, \"TrialName\": {\"Get\": \"Execution.PipelineExecutionId\"}}, \"Steps\": [{\"Name\": \"ChurnPreprocessing\", \"Type\": \"Processing\", \"Arguments\": {\"ProcessingResources\": {\"ClusterConfig\": {\"InstanceType\": \"ml.t3.medium\", \"InstanceCount\": 1, \"VolumeSizeInGB\": 30}}, \"AppSpecification\": {\"ImageUri\": \"257758044811.dkr.ecr.us-east-2.amazonaws.com/sagemaker-scikit-learn:0.23-1-cpu-py3\", \"ContainerEntrypoint\": [\"python3\", \"/opt/ml/processing/input/code/Preprocess.py\"]}, \"RoleArn\": \"arn:aws:iam::779846812208:role/datazone_usr_role_3uvk2n13teqizt_58a7eoris5xezt\", \"ProcessingInputs\": [{\"InputName\": \"input-1\", \"AppManaged\": false, \"S3Input\": {\"S3Uri\": \"s3://rosa-churn-data-2025/churn/churndata.csv\", \"LocalPath\": \"/opt/ml/processing/input\", \"S3DataType\": \"S3Prefix\", \"S3InputMode\": \"File\", \"S3DataDistributionType\": \"FullyReplicated\", \"S3CompressionType\": \"None\"}}, {\"InputName\": \"code\", \"AppManaged\": false, \"S3Input\": {\"S3Uri\": \"s3://amazon-sagemaker-779846812208-us-east-2-424ff6b1c24d/dzd_5tcobnrde6e76x/3uvk2n13teqizt/dev/ChurnModelPipeline/code/5e5085fb2fd8d91b1bcd74f288527ee1/Preprocess.py\", \"LocalPath\": \"/opt/ml/processing/input/code\", \"S3DataType\": \"S3Prefix\", \"S3InputMode\": \"File\", \"S3DataDistributionType\": \"FullyReplicated\", \"S3CompressionType\": \"None\"}}], \"ProcessingOutputConfig\": {\"Outputs\": [{\"OutputName\": \"train\", \"AppManaged\": false, \"S3Output\": {\"S3Uri\": {\"Std:Join\": {\"On\": \"/\", \"Values\": [\"s3:/\", \"amazon-sagemaker-779846812208-us-east-2-424ff6b1c24d\", \"dzd_5tcobnrde6e76x/3uvk2n13teqizt/dev\", \"ChurnModelPipeline\", {\"Get\": \"Execution.PipelineExecutionId\"}, \"ChurnPreprocessing\", \"output\", \"train\"]}}, \"LocalPath\": \"/opt/ml/processing/train\", \"S3UploadMode\": \"EndOfJob\"}}, {\"OutputName\": \"validation\", \"AppManaged\": false, \"S3Output\": {\"S3Uri\": {\"Std:Join\": {\"On\": \"/\", \"Values\": [\"s3:/\", \"amazon-sagemaker-779846812208-us-east-2-424ff6b1c24d\", \"dzd_5tcobnrde6e76x/3uvk2n13teqizt/dev\", \"ChurnModelPipeline\", {\"Get\": \"Execution.PipelineExecutionId\"}, \"ChurnPreprocessing\", \"output\", \"validation\"]}}, \"LocalPath\": \"/opt/ml/processing/validation\", \"S3UploadMode\": \"EndOfJob\"}}, {\"OutputName\": \"test\", \"AppManaged\": false, \"S3Output\": {\"S3Uri\": {\"Std:Join\": {\"On\": \"/\", \"Values\": [\"s3:/\", \"amazon-sagemaker-779846812208-us-east-2-424ff6b1c24d\", \"dzd_5tcobnrde6e76x/3uvk2n13teqizt/dev\", \"ChurnModelPipeline\", {\"Get\": \"Execution.PipelineExecutionId\"}, \"ChurnPreprocessing\", \"output\", \"test\"]}}, \"LocalPath\": \"/opt/ml/processing/test\", \"S3UploadMode\": \"EndOfJob\"}}]}, \"NetworkConfig\": {\"VpcConfig\": {\"SecurityGroupIds\": [\"sg-0aad6fd2b7e2b0b8e\", \"sg-0a419771d915d0781\"], \"Subnets\": [\"subnet-0e5b3c09a7803aec1\"]}, \"EnableNetworkIsolation\": false}}}, {\"Name\": \"ChurnModelTuning\", \"Type\": \"Tuning\", \"Arguments\": {\"HyperParameterTuningJobConfig\": {\"Strategy\": \"Bayesian\", \"ResourceLimits\": {\"MaxNumberOfTrainingJobs\": 10, \"MaxParallelTrainingJobs\": 2}, \"TrainingJobEarlyStoppingType\": \"Off\", \"HyperParameterTuningJobObjective\": {\"Type\": \"Maximize\", \"MetricName\": \"validation:auc\"}, \"ParameterRanges\": {\"ContinuousParameterRanges\": [{\"Name\": \"eta\", \"MinValue\": \"0\", \"MaxValue\": \"1\", \"ScalingType\": \"Auto\"}, {\"Name\": \"min_child_weight\", \"MinValue\": \"1\", \"MaxValue\": \"10\", \"ScalingType\": \"Auto\"}, {\"Name\": \"alpha\", \"MinValue\": \"0\", \"MaxValue\": \"2\", \"ScalingType\": \"Auto\"}], \"CategoricalParameterRanges\": [], \"IntegerParameterRanges\": [{\"Name\": \"max_depth\", \"MinValue\": \"1\", \"MaxValue\": \"10\", \"ScalingType\": \"Auto\"}]}}, \"TrainingJobDefinition\": {\"StaticHyperParameters\": {\"eval_metric\": \"auc\", \"objective\": \"binary:logistic\", \"num_round\": \"100\", \"rate_drop\": \"0.3\", \"tweedie_variance_power\": \"1.4\"}, \"RoleArn\": \"arn:aws:iam::779846812208:role/datazone_usr_role_3uvk2n13teqizt_58a7eoris5xezt\", \"OutputDataConfig\": {\"S3OutputPath\": \"s3://rosa-churn-data-2025/output\"}, \"StoppingCondition\": {\"MaxRuntimeInSeconds\": 86400}, \"HyperParameterTuningResourceConfig\": {\"InstanceCount\": 1, \"InstanceType\": \"ml.t3.medium\", \"VolumeSizeInGB\": 30}, \"AlgorithmSpecification\": {\"TrainingInputMode\": \"File\", \"TrainingImage\": \"257758044811.dkr.ecr.us-east-2.amazonaws.com/sagemaker-xgboost:1.0-1-cpu-py3\"}, \"InputDataConfig\": [{\"DataSource\": {\"S3DataSource\": {\"S3DataType\": \"S3Prefix\", \"S3Uri\": {\"Get\": \"Steps.ChurnPreprocessing.ProcessingOutputConfig.Outputs['train'].S3Output.S3Uri\"}, \"S3DataDistributionType\": \"FullyReplicated\"}}, \"ContentType\": \"text/csv\", \"ChannelName\": \"train\"}, {\"DataSource\": {\"S3DataSource\": {\"S3DataType\": \"S3Prefix\", \"S3Uri\": {\"Get\": \"Steps.ChurnPreprocessing.ProcessingOutputConfig.Outputs['validation'].S3Output.S3Uri\"}, \"S3DataDistributionType\": \"FullyReplicated\"}}, \"ContentType\": \"text/csv\", \"ChannelName\": \"validation\"}], \"VpcConfig\": {\"Subnets\": [\"subnet-0e5b3c09a7803aec1\", \"subnet-0ce19240748392c68\", \"subnet-0aeb8490f20ff12ee\"], \"SecurityGroupIds\": [\"sg-0b283a1722b0377a3\"]}}}}, {\"Name\": \"EvaluateModel\", \"Type\": \"Processing\", \"Arguments\": {\"ProcessingResources\": {\"ClusterConfig\": {\"InstanceType\": \"ml.t3.medium\", \"InstanceCount\": 1, \"VolumeSizeInGB\": 30}}, \"AppSpecification\": {\"ImageUri\": \"257758044811.dkr.ecr.us-east-2.amazonaws.com/sagemaker-xgboost:1.0-1-cpu-py3\", \"ContainerEntrypoint\": [\"python3\", \"/opt/ml/processing/input/code/Evaluate.py\"]}, \"RoleArn\": \"arn:aws:iam::779846812208:role/datazone_usr_role_3uvk2n13teqizt_58a7eoris5xezt\", \"ProcessingInputs\": [{\"InputName\": \"input-1\", \"AppManaged\": false, \"S3Input\": {\"S3Uri\": {\"Std:Join\": {\"On\": \"/\", \"Values\": [\"s3:/\", \"rosa-churn-data-2025\", \"output\", {\"Get\": \"Steps.ChurnModelTuning.TrainingJobSummaries[0].TrainingJobName\"}, \"output/model.tar.gz\"]}}, \"LocalPath\": \"/opt/ml/processing/model\", \"S3DataType\": \"S3Prefix\", \"S3InputMode\": \"File\", \"S3DataDistributionType\": \"FullyReplicated\", \"S3CompressionType\": \"None\"}}, {\"InputName\": \"input-2\", \"AppManaged\": false, \"S3Input\": {\"S3Uri\": {\"Get\": \"Steps.ChurnPreprocessing.ProcessingOutputConfig.Outputs['test'].S3Output.S3Uri\"}, \"LocalPath\": \"/opt/ml/processing/test\", \"S3DataType\": \"S3Prefix\", \"S3InputMode\": \"File\", \"S3DataDistributionType\": \"FullyReplicated\", \"S3CompressionType\": \"None\"}}, {\"InputName\": \"code\", \"AppManaged\": false, \"S3Input\": {\"S3Uri\": \"s3://amazon-sagemaker-779846812208-us-east-2-424ff6b1c24d/dzd_5tcobnrde6e76x/3uvk2n13teqizt/dev/ChurnModelPipeline/code/21699b239a5b656f3af043aef4bcd875/Evaluate.py\", \"LocalPath\": \"/opt/ml/processing/input/code\", \"S3DataType\": \"S3Prefix\", \"S3InputMode\": \"File\", \"S3DataDistributionType\": \"FullyReplicated\", \"S3CompressionType\": \"None\"}}], \"ProcessingOutputConfig\": {\"Outputs\": [{\"OutputName\": \"evaluation\", \"AppManaged\": false, \"S3Output\": {\"S3Uri\": {\"Std:Join\": {\"On\": \"/\", \"Values\": [\"s3:/\", \"amazon-sagemaker-779846812208-us-east-2-424ff6b1c24d\", \"dzd_5tcobnrde6e76x/3uvk2n13teqizt/dev\", \"ChurnModelPipeline\", {\"Get\": \"Execution.PipelineExecutionId\"}, \"EvaluateModel\", \"output\", \"evaluation\"]}}, \"LocalPath\": \"/opt/ml/processing/evaluation\", \"S3UploadMode\": \"EndOfJob\"}}]}, \"NetworkConfig\": {\"VpcConfig\": {\"SecurityGroupIds\": [\"sg-0aad6fd2b7e2b0b8e\", \"sg-0a419771d915d0781\"], \"Subnets\": [\"subnet-0e5b3c09a7803aec1\"]}, \"EnableNetworkIsolation\": false}}, \"PropertyFiles\": [{\"PropertyFileName\": \"EvaluationReport\", \"OutputName\": \"evaluation\", \"FilePath\": \"evaluation.json\"}]}, {\"Name\": \"CheckAUCCondition\", \"Type\": \"Condition\", \"Arguments\": {\"Conditions\": [{\"Type\": \"GreaterThan\", \"LeftValue\": {\"Std:JsonGet\": {\"PropertyFile\": {\"Get\": \"Steps.EvaluateModel.PropertyFiles.EvaluationReport\"}, \"Path\": \"binary_classification_metrics.auc.value\"}}, \"RightValue\": 0.75}], \"IfSteps\": [{\"Name\": \"RegisterChurnModel-RegisterModel\", \"Type\": \"RegisterModel\", \"Arguments\": {\"ModelPackageGroupName\": \"ChurnModelPackageGroup\", \"ModelMetrics\": {\"ModelQuality\": {\"Statistics\": {\"ContentType\": \"application/json\", \"S3Uri\": {\"Std:Join\": {\"On\": \"/\", \"Values\": [{\"Get\": \"Steps.EvaluateModel.ProcessingOutputConfig.Outputs['evaluation'].S3Output.S3Uri\"}, \"evaluation.json\"]}}}}, \"Bias\": {}, \"Explainability\": {}}, \"InferenceSpecification\": {\"Containers\": [{\"Image\": \"257758044811.dkr.ecr.us-east-2.amazonaws.com/sagemaker-xgboost:1.0-1-cpu-py3\", \"ModelDataUrl\": {\"Std:Join\": {\"On\": \"/\", \"Values\": [\"s3:/\", \"rosa-churn-data-2025\", \"output\", {\"Get\": \"Steps.ChurnModelTuning.TrainingJobSummaries[0].TrainingJobName\"}, \"output/model.tar.gz\"]}}}], \"SupportedContentTypes\": [\"text/csv\"], \"SupportedResponseMIMETypes\": [\"text/csv\"], \"SupportedRealtimeInferenceInstanceTypes\": [\"ml.t2.medium\", \"ml.m5.large\"], \"SupportedTransformInstanceTypes\": [\"ml.m5.large\"]}, \"ModelApprovalStatus\": \"PendingManualApproval\", \"SkipModelValidation\": \"None\"}}], \"ElseSteps\": []}}]}\n"
     ]
    }
   ],
   "source": [
    "print(pipeline.definition())\n",
    "\n"
   ]
  },
  {
   "cell_type": "markdown",
   "id": "ddd1f8da-ce4d-4135-8603-28fe4714c4d7",
   "metadata": {},
   "source": [
    "# Step 5: Submit the pipeline to SageMaker and start execution"
   ]
  },
  {
   "cell_type": "code",
   "execution_count": 3,
   "id": "8d7aaf9d-51a5-42b0-bc16-0829c2b28890",
   "metadata": {
    "execution": {
     "iopub.execute_input": "2025-04-04T20:29:31.258850Z",
     "iopub.status.busy": "2025-04-04T20:29:31.258498Z",
     "iopub.status.idle": "2025-04-04T20:29:34.609473Z",
     "shell.execute_reply": "2025-04-04T20:29:34.608371Z",
     "shell.execute_reply.started": "2025-04-04T20:29:31.258824Z"
    }
   },
   "outputs": [
    {
     "data": {
      "text/plain": [
       "{'PipelineArn': 'arn:aws:sagemaker:us-east-2:779846812208:pipeline/ChurnModelPipeline',\n",
       " 'ResponseMetadata': {'RequestId': 'decb1e6b-1dff-4c63-b6ea-0fbd13d02c8d',\n",
       "  'HTTPStatusCode': 200,\n",
       "  'HTTPHeaders': {'x-amzn-requestid': 'decb1e6b-1dff-4c63-b6ea-0fbd13d02c8d',\n",
       "   'content-type': 'application/x-amz-json-1.1',\n",
       "   'content-length': '86',\n",
       "   'date': 'Fri, 04 Apr 2025 20:29:34 GMT'},\n",
       "  'RetryAttempts': 0}}"
      ]
     },
     "execution_count": 3,
     "metadata": {},
     "output_type": "execute_result"
    }
   ],
   "source": [
    "pipeline.upsert(role_arn=role)"
   ]
  },
  {
   "cell_type": "code",
   "execution_count": 4,
   "id": "fd964bf7-e188-4c05-86a1-6ef3cd94b0d0",
   "metadata": {
    "execution": {
     "iopub.execute_input": "2025-04-04T20:29:52.191235Z",
     "iopub.status.busy": "2025-04-04T20:29:52.190838Z",
     "iopub.status.idle": "2025-04-04T20:29:52.422315Z",
     "shell.execute_reply": "2025-04-04T20:29:52.421491Z",
     "shell.execute_reply.started": "2025-04-04T20:29:52.191201Z"
    }
   },
   "outputs": [],
   "source": [
    "execution=pipeline.start()"
   ]
  },
  {
   "cell_type": "code",
   "execution_count": 5,
   "id": "cc94bbb0-9809-42d2-8b1a-8e2cc256fb0b",
   "metadata": {
    "execution": {
     "iopub.execute_input": "2025-04-04T20:30:11.938833Z",
     "iopub.status.busy": "2025-04-04T20:30:11.934064Z",
     "iopub.status.idle": "2025-04-04T20:30:12.051596Z",
     "shell.execute_reply": "2025-04-04T20:30:12.050617Z",
     "shell.execute_reply.started": "2025-04-04T20:30:11.938799Z"
    }
   },
   "outputs": [
    {
     "data": {
      "text/plain": [
       "{'PipelineArn': 'arn:aws:sagemaker:us-east-2:779846812208:pipeline/ChurnModelPipeline',\n",
       " 'PipelineExecutionArn': 'arn:aws:sagemaker:us-east-2:779846812208:pipeline/ChurnModelPipeline/execution/q0e3s7qfs8kj',\n",
       " 'PipelineExecutionDisplayName': 'execution-1743798592391',\n",
       " 'PipelineExecutionStatus': 'Executing',\n",
       " 'PipelineExperimentConfig': {'ExperimentName': 'churnmodelpipeline',\n",
       "  'TrialName': 'q0e3s7qfs8kj'},\n",
       " 'CreationTime': datetime.datetime(2025, 4, 4, 20, 29, 52, 301000, tzinfo=tzlocal()),\n",
       " 'LastModifiedTime': datetime.datetime(2025, 4, 4, 20, 29, 52, 301000, tzinfo=tzlocal()),\n",
       " 'CreatedBy': {'UserProfileArn': 'arn:aws:sagemaker:us-east-2:779846812208:user-profile/d-lqa751s9mjw5/27be00e0-cbf8-48dd-81dc-f72c9d586d61',\n",
       "  'UserProfileName': '27be00e0-cbf8-48dd-81dc-f72c9d586d61',\n",
       "  'DomainId': 'd-lqa751s9mjw5',\n",
       "  'IamIdentity': {'Arn': 'arn:aws:sts::779846812208:assumed-role/datazone_usr_role_3uvk2n13teqizt_58a7eoris5xezt/SageMaker',\n",
       "   'PrincipalId': 'AROA3LET6AIYPT3VGWGQ4:SageMaker',\n",
       "   'SourceIdentity': '27be00e0-cbf8-48dd-81dc-f72c9d586d61'}},\n",
       " 'LastModifiedBy': {'UserProfileArn': 'arn:aws:sagemaker:us-east-2:779846812208:user-profile/d-lqa751s9mjw5/27be00e0-cbf8-48dd-81dc-f72c9d586d61',\n",
       "  'UserProfileName': '27be00e0-cbf8-48dd-81dc-f72c9d586d61',\n",
       "  'DomainId': 'd-lqa751s9mjw5',\n",
       "  'IamIdentity': {'Arn': 'arn:aws:sts::779846812208:assumed-role/datazone_usr_role_3uvk2n13teqizt_58a7eoris5xezt/SageMaker',\n",
       "   'PrincipalId': 'AROA3LET6AIYPT3VGWGQ4:SageMaker',\n",
       "   'SourceIdentity': '27be00e0-cbf8-48dd-81dc-f72c9d586d61'}},\n",
       " 'ResponseMetadata': {'RequestId': 'c7efa7aa-5866-4ecf-9594-5427d0728a79',\n",
       "  'HTTPStatusCode': 200,\n",
       "  'HTTPHeaders': {'x-amzn-requestid': 'c7efa7aa-5866-4ecf-9594-5427d0728a79',\n",
       "   'content-type': 'application/x-amz-json-1.1',\n",
       "   'content-length': '1363',\n",
       "   'date': 'Fri, 04 Apr 2025 20:30:12 GMT'},\n",
       "  'RetryAttempts': 0}}"
      ]
     },
     "execution_count": 5,
     "metadata": {},
     "output_type": "execute_result"
    }
   ],
   "source": [
    "execution.describe()"
   ]
  },
  {
   "cell_type": "code",
   "execution_count": 6,
   "id": "1acd4df8-f0b1-4904-a694-39a3fd98d460",
   "metadata": {
    "execution": {
     "iopub.execute_input": "2025-04-04T20:30:26.220792Z",
     "iopub.status.busy": "2025-04-04T20:30:26.220466Z",
     "iopub.status.idle": "2025-04-04T20:30:26.344084Z",
     "shell.execute_reply": "2025-04-04T20:30:26.343008Z",
     "shell.execute_reply.started": "2025-04-04T20:30:26.220769Z"
    }
   },
   "outputs": [
    {
     "data": {
      "text/plain": [
       "[{'StepName': 'ChurnPreprocessing',\n",
       "  'StartTime': datetime.datetime(2025, 4, 4, 20, 29, 53, 614000, tzinfo=tzlocal()),\n",
       "  'StepStatus': 'Executing',\n",
       "  'Metadata': {'ProcessingJob': {'Arn': 'arn:aws:sagemaker:us-east-2:779846812208:processing-job/pipelines-q0e3s7qfs8kj-ChurnPreprocessing-CmNChvr6vI'}},\n",
       "  'AttemptCount': 1}]"
      ]
     },
     "execution_count": 6,
     "metadata": {},
     "output_type": "execute_result"
    }
   ],
   "source": [
    "execution.list_steps()"
   ]
  },
  {
   "cell_type": "code",
   "execution_count": null,
   "id": "04fa91ec-d802-4bce-92a3-4f9ff42a2d8a",
   "metadata": {},
   "outputs": [],
   "source": []
  }
 ],
 "metadata": {
  "kernelspec": {
   "display_name": "Python 3 (ipykernel)",
   "language": "python",
   "name": "python3"
  },
  "language_info": {
   "codemirror_mode": {
    "name": "ipython",
    "version": 3
   },
   "file_extension": ".py",
   "mimetype": "text/x-python",
   "name": "python",
   "nbconvert_exporter": "python",
   "pygments_lexer": "ipython3",
   "version": "3.11.11"
  }
 },
 "nbformat": 4,
 "nbformat_minor": 5
}
